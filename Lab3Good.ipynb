{
 "cells": [
  {
   "cell_type": "markdown",
   "metadata": {},
   "source": [
    "# Имитационное и статистическое моделирование\n",
    "# Лабораторная №3\n",
    "## Акопян Павел, 2 группа"
   ]
  },
  {
   "cell_type": "markdown",
   "metadata": {},
   "source": [
    "Состав лабораторной работы:\n",
    "1. \n",
    "\n",
    "2.\n"
   ]
  },
  {
   "cell_type": "markdown",
   "metadata": {},
   "source": [
    "### Предварительные манипуляции"
   ]
  },
  {
   "cell_type": "markdown",
   "metadata": {},
   "source": [
    "импорт необходимых библиотек"
   ]
  },
  {
   "cell_type": "code",
   "execution_count": 1,
   "metadata": {
    "collapsed": true
   },
   "outputs": [],
   "source": [
    "import scipy.special as spc\n",
    "import scipy.stats as sst\n",
    "import pandas as pd\n",
    "import numpy as np\n",
    "import math\n",
    "import copy\n",
    "import os\n",
    "\n",
    "from scipy.stats import chi2\n",
    "from scipy.stats import chisquare\n",
    "\n",
    "import matplotlib.pyplot as plt\n",
    "from scipy.stats import norm\n",
    "from scipy.stats import laplace\n",
    "from scipy.stats import poisson\n",
    "%matplotlib inline\n",
    "\n",
    "\n",
    "np.set_printoptions(threshold='nan')"
   ]
  },
  {
   "cell_type": "markdown",
   "metadata": {},
   "source": [
    "загрузка последовательности длины 500 000, полученной при помощи генератора A5/1"
   ]
  },
  {
   "cell_type": "code",
   "execution_count": 2,
   "metadata": {
    "collapsed": false,
    "scrolled": true
   },
   "outputs": [
    {
     "name": "stdout",
     "output_type": "stream",
     "text": [
      "[ 0.99997807  0.77915593  0.86126405  0.41514996  0.44683483  0.76780018\n",
      "  0.85931374  0.77608803  0.84252442  0.94654109]\n",
      "1000000\n"
     ]
    }
   ],
   "source": [
    "seq=np.genfromtxt(\"sshfloatsNew.csv\")\n",
    "print seq[0:10]\n",
    "print len(seq)"
   ]
  },
  {
   "cell_type": "code",
   "execution_count": 3,
   "metadata": {
    "collapsed": false
   },
   "outputs": [
    {
     "data": {
      "text/plain": [
       "0.00022656605928883522"
      ]
     },
     "execution_count": 3,
     "metadata": {},
     "output_type": "execute_result"
    }
   ],
   "source": [
    "np.mean(seq)-0.5"
   ]
  },
  {
   "cell_type": "code",
   "execution_count": 4,
   "metadata": {
    "collapsed": false
   },
   "outputs": [
    {
     "data": {
      "text/plain": [
       "0.00010894743353763447"
      ]
     },
     "execution_count": 4,
     "metadata": {},
     "output_type": "execute_result"
    }
   ],
   "source": [
    "np.var(seq)-1.0/12"
   ]
  },
  {
   "cell_type": "markdown",
   "metadata": {},
   "source": [
    "# Базовое задание"
   ]
  },
  {
   "cell_type": "markdown",
   "metadata": {},
   "source": [
    "# Реализация хи-квадрат теста"
   ]
  },
  {
   "cell_type": "markdown",
   "metadata": {},
   "source": [
    "Вспомогательная функция, возвращает промежутки (bins), которые будут использоваться в хи-квадрат тесте. n_bins - число промежутков, которые будут между крайними значениями xmin и xmax. Также дополнительно выдаются промежутки (-Infinity;xmin) и (xmax;+Infinity)."
   ]
  },
  {
   "cell_type": "code",
   "execution_count": 5,
   "metadata": {
    "collapsed": true
   },
   "outputs": [],
   "source": [
    "def getBins(xmin,xmax,n_bins):\n",
    "    r = np.linspace(xmin,xmax,num=n_bins+1,endpoint = True)\n",
    "    r = r+10**(-10) # including rightmost\n",
    "    r[0]=r[0]-2*10**(-10) # excluding xmin from (-Inf;xmin] bin\n",
    "    return np.concatenate((np.array([float('-inf')]),r,np.array([float('inf')])))"
   ]
  },
  {
   "cell_type": "markdown",
   "metadata": {},
   "source": [
    "Декоратор, принимающий на входе функцию распределения и возвращающий функцию, которая способна возвращать вероятности того, что СВ примет значения в промежутках bins."
   ]
  },
  {
   "cell_type": "code",
   "execution_count": 6,
   "metadata": {
    "collapsed": true
   },
   "outputs": [],
   "source": [
    "# Calculates probabilities for each bin (a,b] within given cumulative distribution function \n",
    "def piCalcDecoratorNew(bins, *args):\n",
    "    def real_piCalcDecorator(cdfFunc):\n",
    "        def piCalc(*args):\n",
    "            piA = np.zeros(len(bins)-1)\n",
    "            if len(args)==1:\n",
    "                args = args[0]\n",
    "                piA[0] =cdfFunc(bins[1],args)  \n",
    "                piA[-1] =1-cdfFunc(bins[-2],args)\n",
    "                for i in range(1,len(bins)-2):\n",
    "                    piA[i]=cdfFunc(bins[i+1],args)-cdfFunc(bins[i],args)\n",
    "            else: #number of params >1\n",
    "                piA[0] =cdfFunc(bins[1],*args)            \n",
    "                piA[-1] =1-cdfFunc(bins[-2],*args)\n",
    "                for i in range(1,len(bins)-2):\n",
    "                    piA[i]=cdfFunc(bins[i+1],*args)-cdfFunc(bins[i],*args)\n",
    "            return piA  \n",
    "        return piCalc\n",
    "    return real_piCalcDecorator"
   ]
  },
  {
   "cell_type": "markdown",
   "metadata": {},
   "source": [
    "Функция расчитывающая хи-квадрат статистику по заданным наблюдаемым попаданиям в промежутки и ожидаемым теоретически. Аналог библиотечной функции chisquare(obs,exp)"
   ]
  },
  {
   "cell_type": "code",
   "execution_count": 7,
   "metadata": {
    "collapsed": false
   },
   "outputs": [],
   "source": [
    "# similar to scipy's chisquare()\n",
    "def chi2statistic(obs = np.array([16, 18, 16, 14, 12, 12], dtype='float'), exp = np.array([16, 16, 16, 16, 16, 8],dtype='float')):\n",
    "    temp = np.square(obs-exp,dtype='float')\n",
    "    with np.errstate(divide='ignore',invalid='ignore'):\n",
    "        temp = temp / exp\n",
    "        temp[exp == 0] = 0\n",
    "    return sum(temp)\n",
    "    # like return chisquare(obs,exp)"
   ]
  },
  {
   "cell_type": "markdown",
   "metadata": {},
   "source": [
    "Собственно хи-квадрат тест с параметрами: df - степени свободы, x - тестируемая последовательность, alpha - уровень значимости, cdfFunc и * args - функция распределения по которой проверяется последовательность и ее параметры."
   ]
  },
  {
   "cell_type": "code",
   "execution_count": 8,
   "metadata": {
    "collapsed": true
   },
   "outputs": [],
   "source": [
    "def chi2test(df,x, alpha,cdfFunc,*args):\n",
    "    N = len(x)\n",
    "    xmin = min(x)\n",
    "    xmax = max(x)\n",
    "    bins = getBins(xmin,xmax,df-2)\n",
    "    print \"Bins for histogram are \"\n",
    "    print bins\n",
    "    piCalc = piCalcDecoratorNew(bins,*args)(cdfFunc)\n",
    "    piks = piCalc(*args)\n",
    "    print \"Expected probability to be in a bin\"\n",
    "    print sum(piks)\n",
    "    print piks\n",
    "    \n",
    "    a = piks*float(N)\n",
    "    b = np.histogram(x,bins)[0]\n",
    "    print \"Observed probabilities for bins\"\n",
    "    print sum(b/float(N))\n",
    "    print b/float(N)\n",
    "    print \"=========================================================\"\n",
    "    chi2Observed = chi2statistic(b,a)\n",
    "    criticalValue = chi2.ppf(1-alpha,df)\n",
    "    pval = chi2.sf(chi2statistic(b,a),df)\n",
    "    print \"Chi2 statistic is {0}\".format(chi2Observed)\n",
    "    print \"Critical value is {0}\".format(criticalValue)\n",
    "    print \"P-value is {0}\".format(pval)\n",
    "    return (chi2Observed,criticalValue,pval)"
   ]
  },
  {
   "cell_type": "markdown",
   "metadata": {},
   "source": [
    "Проверка работы реализованного хи-квадрат теста на последовательность, генерируемыми библиотечными функциями."
   ]
  },
  {
   "cell_type": "markdown",
   "metadata": {},
   "source": [
    "Для нормального распределения"
   ]
  },
  {
   "cell_type": "code",
   "execution_count": 9,
   "metadata": {
    "collapsed": false
   },
   "outputs": [
    {
     "name": "stdout",
     "output_type": "stream",
     "text": [
      "Bins for histogram are \n",
      "[        -inf   1.06879227   3.3049643    5.54113633   7.77730836\n",
      "  10.01348039  12.24965242  14.48582444  16.72199647  18.9581685\n",
      "          inf]\n",
      "Expected probability to be in a bin\n",
      "1.0\n",
      "[  3.99216127e-06   4.03701522e-04   1.24848993e-02   1.20317169e-01\n",
      "   3.69479166e-01   3.66979729e-01   1.17880105e-01   1.20629311e-02\n",
      "   3.84558409e-04   3.74819718e-06]\n",
      "Observed probabilities for bins\n",
      "1.0\n",
      "[ 0.       0.00037  0.01255  0.12052  0.36815  0.36705  0.11908  0.01189\n",
      "  0.00039  0.     ]\n",
      "=========================================================\n",
      "Chi2 statistic is 3.07999519078\n",
      "Critical value is 18.3070380533\n",
      "P-value is 0.979478275997\n",
      "(3.0799951907815624, 18.307038053275143, 0.97947827599727133)\n"
     ]
    }
   ],
   "source": [
    "# Testing on scipy's norm\n",
    "from scipy.stats import norm\n",
    "alpha = 0.05\n",
    "test_sequence = norm.rvs(loc=10.0, scale=2.0, size=100000, random_state=42)\n",
    "print chi2test(10,test_sequence,alpha,norm.cdf,10.0,2.0)"
   ]
  },
  {
   "cell_type": "markdown",
   "metadata": {},
   "source": [
    "Для распределения Пуассона"
   ]
  },
  {
   "cell_type": "code",
   "execution_count": 10,
   "metadata": {
    "collapsed": false
   },
   "outputs": [
    {
     "name": "stdout",
     "output_type": "stream",
     "text": [
      "Bins for histogram are \n",
      "[        -inf   1.           3.22222222   5.44444444   7.66666667\n",
      "   9.88888889  12.11111111  14.33333333  16.55555556  18.77777778  21.\n",
      "          inf]\n",
      "Expected probability to be in a bin\n",
      "1.0\n",
      "[  4.53999298e-05   1.02906507e-02   5.67499122e-02   1.53134684e-01\n",
      "   2.37709068e-01   3.33626762e-01   1.24985051e-01   5.64168631e-02\n",
      "   1.98551052e-02   6.48685409e-03   6.99650512e-04]\n",
      "Observed probabilities for bins\n",
      "1.0\n",
      "[ 0.      0.0125  0.0565  0.16    0.2405  0.324   0.1265  0.049   0.023\n",
      "  0.008   0.    ]\n",
      "=========================================================\n",
      "Chi2 statistic is 7.36666224007\n",
      "Critical value is 19.6751375727\n",
      "P-value is 0.768660842244\n",
      "(7.3666622400733859, 19.675137572682491, 0.76866084224378395)\n"
     ]
    }
   ],
   "source": [
    "# Testing on scipy's poisson\n",
    "from scipy.stats import poisson\n",
    "alpha = 0.05\n",
    "test_sequence = poisson.rvs(mu=10, size=2000, random_state=42)\n",
    "\n",
    "print chi2test(max(test_sequence)-10,test_sequence,alpha,poisson.cdf,10.0)"
   ]
  },
  {
   "cell_type": "markdown",
   "metadata": {},
   "source": [
    "# Моделирование нормальной случайной величины"
   ]
  },
  {
   "cell_type": "code",
   "execution_count": 11,
   "metadata": {
    "collapsed": false
   },
   "outputs": [],
   "source": [
    "def Normal(loc =0.0,scale=1.0, N=20, seq=seq):\n",
    "    result = np.zeros(N)\n",
    "    for i in range(N-1):\n",
    "        multiplicator = math.sqrt(-2.0*math.log(seq[i]))\n",
    "        result[i] = math.cos(2.0*math.pi*seq[i+1])*multiplicator\n",
    "        result[i+1] = math.sin(2.0*math.pi*seq[i+1]) * multiplicator\n",
    "        i = i+2\n",
    "    return result*scale+loc"
   ]
  },
  {
   "cell_type": "markdown",
   "metadata": {},
   "source": [
    "Тестирование реализации нормального распределения"
   ]
  },
  {
   "cell_type": "markdown",
   "metadata": {},
   "source": [
    "собственно моделирование (генерация)"
   ]
  },
  {
   "cell_type": "code",
   "execution_count": 18,
   "metadata": {
    "collapsed": false,
    "scrolled": true
   },
   "outputs": [
    {
     "name": "stdout",
     "output_type": "stream",
     "text": [
      "[ 10.00241273  10.90924936   9.0586126    7.49462582  10.28333097\n",
      "  10.92190758  10.17972128  10.78201782  11.10539123   9.7686858 ]\n"
     ]
    }
   ],
   "source": [
    "loc = 10.0\n",
    "scale=2.0\n",
    "gaussian_numbers =Normal(loc,scale,N=len(seq),seq=seq)\n",
    "gaussian_numbers =Normal(loc,scale,N=len(seq),seq=seq)\n",
    "\n",
    "print gaussian_numbers[0:10]"
   ]
  },
  {
   "cell_type": "markdown",
   "metadata": {},
   "source": [
    "Проверка выборочного среднего и дисперсии"
   ]
  },
  {
   "cell_type": "code",
   "execution_count": 20,
   "metadata": {
    "collapsed": false
   },
   "outputs": [
    {
     "name": "stdout",
     "output_type": "stream",
     "text": [
      "Mean observed is 10.0018700411 ======= Mean expected is 10.0\n",
      "Varience is 3.99980491953 ======= Variance expected is 4.0\n"
     ]
    }
   ],
   "source": [
    "print \"Mean observed is {0} ======= Mean expected is {1}\".format(np.mean(gaussian_numbers),loc)\n",
    "print \"Varience is {0} ======= Variance expected is {1}\".format(np.var(gaussian_numbers),scale**2)"
   ]
  },
  {
   "cell_type": "markdown",
   "metadata": {},
   "source": [
    "Проверка тестом хи-квадрат"
   ]
  },
  {
   "cell_type": "code",
   "execution_count": 21,
   "metadata": {
    "collapsed": false
   },
   "outputs": [
    {
     "name": "stdout",
     "output_type": "stream",
     "text": [
      "Bins for histogram are \n",
      "[        -inf   0.21038463   2.67443751   5.13849038   7.60254326\n",
      "  10.06659614  12.53064902  14.99470189  17.45875477  19.92280765\n",
      "          inf]\n",
      "Expected probability to be in a bin\n",
      "1.0\n",
      "[  4.92009544e-07   1.24253785e-04   7.40895781e-03   1.07783088e-01\n",
      "   3.97964762e-01   3.83840934e-01   9.66212596e-02   6.16027603e-03\n",
      "   9.56268146e-05   3.49927605e-07]\n",
      "Observed probabilities for bins\n",
      "1.0\n",
      "[  0.00000000e+00   1.33000000e-04   7.40400000e-03   1.07477000e-01\n",
      "   3.97748000e-01   3.84191000e-01   9.69000000e-02   6.05200000e-03\n",
      "   9.50000000e-05   0.00000000e+00]\n",
      "=========================================================\n",
      "Chi2 statistic is 5.47882473215\n",
      "Critical value is 19.2669608184\n",
      "P-value is 0.856987519777\n",
      "(5.4788247321502679, 19.266960818382699, 0.85698751977667698)\n"
     ]
    }
   ],
   "source": [
    "alpha = 0.037\n",
    "df = 10\n",
    "print chi2test(10,gaussian_numbers,alpha,norm.cdf,loc,scale)"
   ]
  },
  {
   "cell_type": "markdown",
   "metadata": {},
   "source": [
    "Гистограмма и функция плотности"
   ]
  },
  {
   "cell_type": "code",
   "execution_count": 22,
   "metadata": {
    "collapsed": false
   },
   "outputs": [
    {
     "data": {
      "text/plain": [
       "<matplotlib.legend.Legend at 0x7fab06ab38d0>"
      ]
     },
     "execution_count": 22,
     "metadata": {},
     "output_type": "execute_result"
    },
    {
     "data": {
      "image/png": "[encoded data removed]",
      "text/plain": [
       "<matplotlib.figure.Figure at 0x7fab14a349d0>"
      ]
     },
     "metadata": {},
     "output_type": "display_data"
    }
   ],
   "source": [
    "fig, ax = plt.subplots(1, 1)\n",
    "x = np.linspace(norm.ppf(0.01,loc,scale),norm.ppf(0.99, loc, scale), 100)\n",
    "ax.plot(x, norm.pdf(x, loc,scale),'r-', lw=5, alpha=0.6, label='norm pdf')\n",
    "n_hist = 20\n",
    "ax.hist(gaussian_numbers,np.linspace(norm.ppf(0.01,scale=scale,loc=loc),norm.ppf(0.99, scale=scale,loc=loc), n_hist),normed=True, histtype='stepfilled', alpha=0.4)\n",
    "ax.set_title(\"Gaissian Histogram\")\n",
    "ax.set_xlabel(\"Value\")\n",
    "ax.set_ylabel(\"Frequency\")\n",
    "ax.legend(loc='best', frameon=False)"
   ]
  },
  {
   "cell_type": "markdown",
   "metadata": {},
   "source": [
    "График выборочной функции распределения и истинной функции распределения"
   ]
  },
  {
   "cell_type": "code",
   "execution_count": 23,
   "metadata": {
    "collapsed": false
   },
   "outputs": [
    {
     "data": {
      "text/plain": [
       "<matplotlib.legend.Legend at 0x7fab06acdfd0>"
      ]
     },
     "execution_count": 23,
     "metadata": {},
     "output_type": "execute_result"
    },
    {
     "data": {
      "image/png": "[encoded data removed]",
      "text/plain": [
       "<matplotlib.figure.Figure at 0x7fab06abbfd0>"
      ]
     },
     "metadata": {},
     "output_type": "display_data"
    }
   ],
   "source": [
    "fig, ax = plt.subplots(1, 1)\n",
    "x = np.sort(gaussian_numbers)\n",
    "y = np.arange(1,len(x)+1,dtype='float')/len(x)\n",
    "ax.plot(x, norm.cdf(x,scale=scale,loc=loc),'g', lw=5, label='expected' )\n",
    "\n",
    "ax.plot(x, y,'r-', lw=2,  label='observed')\n",
    "\n",
    "\n",
    "ax.set_title(\"Gaissian CDF\")\n",
    "ax.set_xlabel(\"Value\")\n",
    "ax.set_ylabel(\"Frequency\")\n",
    "ax.legend(loc='best', frameon=False)"
   ]
  },
  {
   "cell_type": "markdown",
   "metadata": {},
   "source": [
    "# Моделирование Лаплассовской случайной величины\n",
    "### (двойное экспоненциальное распределение)"
   ]
  },
  {
   "cell_type": "markdown",
   "metadata": {},
   "source": [
    "методом обратной функции"
   ]
  },
  {
   "cell_type": "code",
   "execution_count": 24,
   "metadata": {
    "collapsed": true
   },
   "outputs": [],
   "source": [
    "def LaplassInv(x,alpha=0.8,beta=1.0):\n",
    "    if x<0.5:\n",
    "        return beta + math.log(2.0*x)/alpha\n",
    "    else:\n",
    "        return beta - math.log(2-2*x)/alpha\n",
    "def Laplass(alpha=2,beta=0.0,seq=seq):\n",
    "    result = np.zeros(len(seq))\n",
    "    for i in range(len(seq)):\n",
    "        result[i] = LaplassInv(seq[i],alpha,beta)\n",
    "    return result"
   ]
  },
  {
   "cell_type": "markdown",
   "metadata": {},
   "source": [
    "Генерация"
   ]
  },
  {
   "cell_type": "code",
   "execution_count": 25,
   "metadata": {
    "collapsed": false
   },
   "outputs": [
    {
     "name": "stdout",
     "output_type": "stream",
     "text": [
      "[ 5.34488773  2.27238373  2.4273452   1.93801057  1.96252697  2.25566993\n",
      "  2.42269193  2.26778503  2.38511256  2.74523159]\n"
     ]
    }
   ],
   "source": [
    "alpha = 3.0\n",
    "beta=2.0\n",
    "laplace_numbers =Laplass(alpha=alpha,beta=beta,seq=seq)\n",
    "print laplace_numbers[0:10]"
   ]
  },
  {
   "cell_type": "markdown",
   "metadata": {},
   "source": [
    "Проверка по выборочному среднему и дисперсии"
   ]
  },
  {
   "cell_type": "code",
   "execution_count": 26,
   "metadata": {
    "collapsed": false,
    "scrolled": true
   },
   "outputs": [
    {
     "name": "stdout",
     "output_type": "stream",
     "text": [
      "Mean observed is 2.00032861601 ======= Mean expected is 2.0\n",
      "Varience is 0.222924252901 ======= Variance expected is 0.222222222222\n"
     ]
    }
   ],
   "source": [
    "print \"Mean observed is {0} ======= Mean expected is {1}\".format(np.mean(laplace_numbers),beta)\n",
    "print \"Varience is {0} ======= Variance expected is {1}\".format(np.var(laplace_numbers),2.0/alpha**2)"
   ]
  },
  {
   "cell_type": "markdown",
   "metadata": {},
   "source": [
    "Проверка тестом хи-квадрат"
   ]
  },
  {
   "cell_type": "code",
   "execution_count": 27,
   "metadata": {
    "collapsed": false
   },
   "outputs": [
    {
     "data": {
      "text/plain": [
       "array([ 5.34488773,  2.27238373,  2.4273452 ,  1.93801057,  1.96252697,\n",
       "        2.25566993,  2.42269193,  2.26778503,  2.38511256,  2.74523159])"
      ]
     },
     "execution_count": 27,
     "metadata": {},
     "output_type": "execute_result"
    }
   ],
   "source": [
    "laplace_numbers[0:10]"
   ]
  },
  {
   "cell_type": "code",
   "execution_count": 28,
   "metadata": {
    "collapsed": false
   },
   "outputs": [
    {
     "name": "stdout",
     "output_type": "stream",
     "text": [
      "Bins for histogram are \n",
      "[       -inf -2.25711821 -1.18696638 -0.11681456  0.95333727  2.02348909\n",
      "  3.09364092  4.16379275  5.23394457  6.3040964          inf]\n",
      "Expected probability to be in a bin\n",
      "1.0\n",
      "[  1.42049976e-06   3.37942221e-05   8.37771442e-04   2.07686683e-02\n",
      "   5.12379231e-01   4.47182339e-01   1.80385467e-02   7.27643152e-04\n",
      "   2.93518411e-05   1.23376958e-06]\n",
      "Observed probabilities for bins\n",
      "1.0\n",
      "[  0.00000000e+00   2.40000000e-05   8.45000000e-04   2.09930000e-02\n",
      "   5.11536000e-01   4.47615000e-01   1.82250000e-02   7.32000000e-04\n",
      "   3.00000000e-05   0.00000000e+00]\n",
      "=========================================================\n",
      "Chi2 statistic is 11.7522874786\n",
      "Critical value is 19.2669608184\n",
      "P-value is 0.301977061011\n",
      "(11.752287478612546, 19.266960818382699, 0.30197706101143995)\n"
     ]
    }
   ],
   "source": [
    "alphaT = 0.037\n",
    "df = 10\n",
    "print chi2test(10,laplace_numbers,alphaT,laplace.cdf,beta,1/alpha)"
   ]
  },
  {
   "cell_type": "markdown",
   "metadata": {},
   "source": [
    "Гистограмма и функция плотности"
   ]
  },
  {
   "cell_type": "code",
   "execution_count": 29,
   "metadata": {
    "collapsed": false,
    "scrolled": true
   },
   "outputs": [
    {
     "data": {
      "text/plain": [
       "<matplotlib.legend.Legend at 0x7fab06ae4a90>"
      ]
     },
     "execution_count": 29,
     "metadata": {},
     "output_type": "execute_result"
    },
    {
     "data": {
      "image/png": "[encoded data removed]",
      "text/plain": [
       "<matplotlib.figure.Figure at 0x7fab06b2aa10>"
      ]
     },
     "metadata": {},
     "output_type": "display_data"
    }
   ],
   "source": [
    "fig, ax = plt.subplots(1, 1)\n",
    "x = np.linspace(laplace.ppf(0.01,scale=1/alpha,loc=beta),laplace.ppf(0.99, scale=1/alpha,loc=beta), 100)\n",
    "ax.plot(x, laplace.pdf(x, scale=1/alpha,loc=beta),'r-', lw=5, alpha=0.6, label='laplass pdf')\n",
    "n_hist = 20\n",
    "ax.hist(laplace_numbers,np.linspace(laplace.ppf(0.01,scale=1/alpha,loc=beta),laplace.ppf(0.99, scale=1/alpha,loc=beta), n_hist),normed=True, histtype='stepfilled', alpha=0.4)\n",
    "ax.set_title(\"Laplassian Histogram\")\n",
    "ax.set_xlabel(\"Value\")\n",
    "ax.set_ylabel(\"Frequency\")\n",
    "ax.legend(loc='best', frameon=False)"
   ]
  },
  {
   "cell_type": "markdown",
   "metadata": {},
   "source": [
    "График выборочной функции распределения и истинной функции распределения"
   ]
  },
  {
   "cell_type": "code",
   "execution_count": 30,
   "metadata": {
    "collapsed": false
   },
   "outputs": [
    {
     "data": {
      "text/plain": [
       "<matplotlib.legend.Legend at 0x7fab0976c3d0>"
      ]
     },
     "execution_count": 30,
     "metadata": {},
     "output_type": "execute_result"
    },
    {
     "data": {
      "image/png": "[encoded data removed]",
      "text/plain": [
       "<matplotlib.figure.Figure at 0x7fab409a8250>"
      ]
     },
     "metadata": {},
     "output_type": "display_data"
    }
   ],
   "source": [
    "fig, ax = plt.subplots(1, 1)\n",
    "x = np.sort(laplace_numbers)\n",
    "y = np.arange(1,len(x)+1,dtype='float')/len(x)\n",
    "ax.plot(x, laplace.cdf(x, scale=1/alpha,loc=beta),'g', lw=4, label='expected' )\n",
    "\n",
    "ax.plot(x, y,'r-', lw=2,  label='observed')\n",
    "ax.set_title(\"Laplassian CDF\")\n",
    "ax.set_xlabel(\"Value\")\n",
    "ax.set_ylabel(\"Frequency\")\n",
    "ax.legend(loc='best', frameon=False)"
   ]
  },
  {
   "cell_type": "markdown",
   "metadata": {},
   "source": [
    "# Моделирование Пуассоновской случайной величины"
   ]
  },
  {
   "cell_type": "markdown",
   "metadata": {},
   "source": [
    "\"наивная\" реализация, требующая k БСВ для генерации одной Пуассоновской СВ"
   ]
  },
  {
   "cell_type": "code",
   "execution_count": 31,
   "metadata": {
    "collapsed": true
   },
   "outputs": [],
   "source": [
    "def PoissonNaive(lmbda = 2,k=250, count=30, seq=seq):\n",
    "    p = float(lmbda)/k\n",
    "    print \"p must be <0.01. Now it is {0}\".format(p)\n",
    "    print \"p*k must be <10. Now it is {0}\".format(p*k)\n",
    "    ksi = numpy.zeros(count)\n",
    "    for i in range(count):\n",
    "        for j in range(k):\n",
    "            ksi[i]= ksi[i] + (1 if seq[count*i+j]<p else 0)\n",
    "    return ksi   "
   ]
  },
  {
   "cell_type": "markdown",
   "metadata": {},
   "source": [
    "Более эффективная реализация методом обратной функции для дискретных СВ"
   ]
  },
  {
   "cell_type": "code",
   "execution_count": 32,
   "metadata": {
    "collapsed": true
   },
   "outputs": [],
   "source": [
    "def PoissonCDF(lmbda = 2,k=5):\n",
    "    #return poisson.cdf(k,lmbda)\n",
    "    s = 0.0\n",
    "    for i in range(int(math.floor(k))):\n",
    "        s = s + math.pow(lmbda, i)/math.factorial(i)\n",
    "    return s*math.pow(math.e,-lmbda)\n",
    "def PoissonPMF(lmbda = 2,k=250):\n",
    "    return math.pow(math.e,-lmbda)*math.pow(lmbda, k)/math.factorial(k)\n",
    "    #return poisson.pmf(k,lmbda)\n",
    "\n",
    "def Poisson(lmbda = 2,k=30, seq=seq):\n",
    "\n",
    "    cdf = np.zeros(k+1)\n",
    "    cdf[0] = PoissonPMF(lmbda = lmbda,k=0)\n",
    "    for j in range(1,k+1):\n",
    "        cdf[j]=cdf[j-1]+PoissonPMF(lmbda = lmbda,k=j)\n",
    "    #print cdf\n",
    "    ksi = np.digitize(seq, cdf-10**(-10))\n",
    "    return ksi "
   ]
  },
  {
   "cell_type": "markdown",
   "metadata": {},
   "source": [
    "Генерация"
   ]
  },
  {
   "cell_type": "code",
   "execution_count": 33,
   "metadata": {
    "collapsed": false
   },
   "outputs": [
    {
     "name": "stdout",
     "output_type": "stream",
     "text": [
      "[10  3  4  2  2  3  4  3  3  4]\n"
     ]
    }
   ],
   "source": [
    "lmbda = 2.0\n",
    "k = 30\n",
    "poisson_numbers =Poisson(lmbda=lmbda,k=k,seq=seq)\n",
    "print poisson_numbers[0:10]"
   ]
  },
  {
   "cell_type": "markdown",
   "metadata": {},
   "source": [
    "Проверка по выборочному среднему и дисперсии"
   ]
  },
  {
   "cell_type": "code",
   "execution_count": 34,
   "metadata": {
    "collapsed": false
   },
   "outputs": [
    {
     "name": "stdout",
     "output_type": "stream",
     "text": [
      "Mean observed is 2.000997 ======= Mean expected is 2.0\n",
      "Varience is 2.00365800599 ======= Variance expected is 2.0\n"
     ]
    }
   ],
   "source": [
    "print \"Mean observed is {0} ======= Mean expected is {1}\".format(np.mean(poisson_numbers),lmbda)\n",
    "print \"Varience is {0} ======= Variance expected is {1}\".format(np.var(poisson_numbers),lmbda)"
   ]
  },
  {
   "cell_type": "markdown",
   "metadata": {},
   "source": [
    "Проверка тестом хи-квадрат"
   ]
  },
  {
   "cell_type": "code",
   "execution_count": 35,
   "metadata": {
    "collapsed": false
   },
   "outputs": [
    {
     "name": "stdout",
     "output_type": "stream",
     "text": [
      "Bins for histogram are \n",
      "[            -inf  -1.00000000e-10   1.50000000e+00   3.00000000e+00\n",
      "   4.50000000e+00   6.00000000e+00   7.50000000e+00   9.00000000e+00\n",
      "   1.05000000e+01   1.20000000e+01              inf]\n",
      "Expected probability to be in a bin\n",
      "1.0\n",
      "[  0.00000000e+00   4.06005850e-01   4.51117611e-01   9.02235222e-02\n",
      "   4.81192118e-02   3.43708656e-03   1.05022089e-03   3.81898506e-05\n",
      "   8.10087741e-06   2.07346958e-07]\n",
      "Observed probabilities for bins\n",
      "1.0\n",
      "[  0.00000000e+00   4.06140000e-01   4.50724000e-01   9.00540000e-02\n",
      "   4.86240000e-02   3.40500000e-03   1.00500000e-03   4.00000000e-05\n",
      "   8.00000000e-06   0.00000000e+00]\n",
      "=========================================================\n",
      "Chi2 statistic is 8.54277504612\n",
      "Critical value is 19.2669608184\n",
      "P-value is 0.575973806058\n",
      "(8.5427750461221965, 19.266960818382699, 0.57597380605776272)\n"
     ]
    }
   ],
   "source": [
    "alpha = 0.037\n",
    "df = 10\n",
    "print chi2test(10,poisson_numbers,alpha,poisson.cdf,lmbda)"
   ]
  },
  {
   "cell_type": "markdown",
   "metadata": {},
   "source": [
    "Гистограмма и функция вероятности"
   ]
  },
  {
   "cell_type": "code",
   "execution_count": 37,
   "metadata": {
    "collapsed": false
   },
   "outputs": [
    {
     "data": {
      "text/plain": [
       "<matplotlib.legend.Legend at 0x7fab09599d50>"
      ]
     },
     "execution_count": 37,
     "metadata": {},
     "output_type": "execute_result"
    },
    {
     "data": {
      "image/png": "[encoded data removed]",
      "text/plain": [
       "<matplotlib.figure.Figure at 0x7fab06ab6f10>"
      ]
     },
     "metadata": {},
     "output_type": "display_data"
    }
   ],
   "source": [
    "fig, ax = plt.subplots(1, 1)\n",
    "x = np.arange(poisson.ppf(0.001, mu=lmbda), poisson.ppf(0.999, mu=lmbda))\n",
    "ax.plot(x, poisson.pmf(x, mu=lmbda), 'bo', ms=8, label='poisson pmf')\n",
    "ax.vlines(x, 0, poisson.pmf(x, mu=lmbda), colors='b', lw=5, alpha=0.5)\n",
    "\n",
    "n_hist = k+1\n",
    "weights = np.ones_like(poisson_numbers)/float(len(poisson_numbers))\n",
    "ax.hist(poisson_numbers,np.linspace(poisson.ppf(0.01,mu=lmbda),poisson.ppf(0.99, mu=lmbda),n_hist),\n",
    "        weights=weights, histtype='stepfilled', alpha=0.4)\n",
    "ax.set_title(\"Poisson Histogram\")\n",
    "ax.set_xlabel(\"Value\")\n",
    "ax.set_ylabel(\"Frequency\")\n",
    "ax.legend(loc='best', frameon=False)"
   ]
  },
  {
   "cell_type": "markdown",
   "metadata": {
    "collapsed": true
   },
   "source": [
    "График выборочной функции распределения и истинной функции распределения"
   ]
  },
  {
   "cell_type": "code",
   "execution_count": 38,
   "metadata": {
    "collapsed": false
   },
   "outputs": [
    {
     "data": {
      "text/plain": [
       "<matplotlib.legend.Legend at 0x7fab094e1ad0>"
      ]
     },
     "execution_count": 38,
     "metadata": {},
     "output_type": "execute_result"
    },
    {
     "data": {
      "image/png": "[encoded data removed]",
      "text/plain": [
       "<matplotlib.figure.Figure at 0x7fab06ac7950>"
      ]
     },
     "metadata": {},
     "output_type": "display_data"
    }
   ],
   "source": [
    "fig, ax = plt.subplots(1, 1)\n",
    "x = np.sort(poisson_numbers)\n",
    "y = np.arange(1,len(x)+1,dtype='float')/len(x)\n",
    "#ax.plot(x, poisson.cdf(x, mu=lmbda),'g', lw=3, label='expected' )\n",
    "uniq = np.unique(x)\n",
    "uniqEnd = uniq+1\n",
    "uniqEnd[-1] -= 0.95 \n",
    "ax.hlines(poisson.cdf(uniq, mu=lmbda), uniq, uniqEnd, colors='g', lw=5,label='poisson cdf')\n",
    "ax.plot(x, y,'r-', lw=3,  label='observed')\n",
    "#ax.hist(poisson_numbers,uniq,normed=True,cumulative=True,histtype='stepfilled', alpha=0.4)\n",
    "#ax.plot(x, poisson.pmf(x, mu=lmbda), 'bo', ms=8, label='poisson pmf')\n",
    "#ax.vlines(x, 0, poisson.pmf(x, mu=lmbda), colors='b', lw=5, alpha=0.5)\n",
    "\n",
    "\n",
    "ax.set_title(\"Poisson CDF\")\n",
    "ax.set_xlabel(\"Value\")\n",
    "ax.set_ylabel(\"Frequency\")\n",
    "ax.legend(loc='best', frameon=False)"
   ]
  },
  {
   "cell_type": "code",
   "execution_count": null,
   "metadata": {
    "collapsed": false
   },
   "outputs": [],
   "source": [
    "'''fig, ax = plt.subplots(1, 1)\n",
    "x = np.sort(poisson_numbers)\n",
    "cumsum = np.cumsum(x, dtype=float)\n",
    "cumsumNormed = cumsum/np.max(cumsum)\n",
    "#ax.plot(x, poisson.cdf(x, mu=lmbda),'g', lw=3, label='expected' )\n",
    "uniq = np.unique(x)\n",
    "uniqEnd = uniq+1\n",
    "uniqEnd[-1] -= 0.95 \n",
    "ax.hlines(poisson.cdf(uniq, mu=lmbda), uniq, uniqEnd, colors='r', lw=3, alpha=0.5,label='poisson cdf')\n",
    "#ax.plot(x, cumsumNormed,'r-', lw=3,  label='observed')\n",
    "ax.hist(poisson_numbers,uniq,normed=True,cumulative=True,histtype='stepfilled', alpha=0.4)\n",
    "#ax.plot(x, poisson.pmf(x, mu=lmbda), 'bo', ms=8, label='poisson pmf')\n",
    "#ax.vlines(x, 0, poisson.pmf(x, mu=lmbda), colors='b', lw=5, alpha=0.5)\n",
    "\n",
    "\n",
    "ax.set_title(\"Poisson CDF\")\n",
    "ax.set_xlabel(\"Value\")\n",
    "ax.set_ylabel(\"Frequency\")\n",
    "ax.legend(loc='best', frameon=False)\n",
    "'''"
   ]
  },
  {
   "cell_type": "markdown",
   "metadata": {},
   "source": [
    "# Дополнительное задание 5\n",
    "# Моделирование Гауссовского случайного вектора"
   ]
  },
  {
   "cell_type": "code",
   "execution_count": 74,
   "metadata": {
    "collapsed": false
   },
   "outputs": [
    {
     "data": {
      "text/plain": [
       "(4, 250000)"
      ]
     },
     "execution_count": 74,
     "metadata": {},
     "output_type": "execute_result"
    }
   ],
   "source": [
    "ksi.shape"
   ]
  },
  {
   "cell_type": "code",
   "execution_count": 39,
   "metadata": {
    "collapsed": false
   },
   "outputs": [],
   "source": [
    "mu = [1,2,3,4]\n",
    "sigma = [[13.1,4.2,9.0,2.7],[4.2,4.8,4.1,2.0],[9.0,4.1,10.8,3.6],[2.7,2.0,3.6,1.9]]\n",
    "gn = Normal(loc=0,scale=1,N=len(seq)/4*4)\n"
   ]
  },
  {
   "cell_type": "code",
   "execution_count": 40,
   "metadata": {
    "collapsed": false
   },
   "outputs": [],
   "source": [
    "def GaussVector(mu,sigma,gn):\n",
    "    eigen = np.linalg.eig(sigma)\n",
    "    W = eigen[1] \n",
    "    lmda = np.sqrt(eigen[0])\n",
    "    C = W.dot(np.diag(lmda))\n",
    "    eta = np.reshape(gn,(4,-1))\n",
    "    #eta = np.reshape(norm.rvs(loc=0,scale=1,size=len(seq)/4*4),(4,-1))\n",
    "    muV=np.array([mu]).transpose()\n",
    "    ksi = C.dot(eta)+muV\n",
    "    print \"Means are \",np.mean(ksi,axis=1)\n",
    "    print \"Variances are \\n\", np.cov(ksi)\n",
    "    print \"Max norm of cov matrix\",np.max(np.cov(ksi)-sigma)\n",
    "    return ksi"
   ]
  },
  {
   "cell_type": "code",
   "execution_count": 41,
   "metadata": {
    "collapsed": false,
    "scrolled": false
   },
   "outputs": [
    {
     "name": "stdout",
     "output_type": "stream",
     "text": [
      "Means are  [ 0.99891741  2.00494151  3.00403033  4.00198394]\n",
      "Variances are \n",
      "[[ 13.06818646   4.20130387   8.9790634    2.69473186]\n",
      " [  4.20130387   4.80646648   4.09787219   2.00011552]\n",
      " [  8.9790634    4.09787219  10.79481537   3.60258208]\n",
      " [  2.69473186   2.00011552   3.60258208   1.90395727]]\n",
      "Max norm of cov matrix 0.00646648194363\n"
     ]
    }
   ],
   "source": [
    "gn2 = norm.rvs(loc=0,scale=1,size=len(seq)/4*4)\n",
    "ksi = GaussVector(mu,sigma,gn=gn2)"
   ]
  },
  {
   "cell_type": "markdown",
   "metadata": {},
   "source": [
    "# Дополнительное задание 4\n",
    "Осуществить моделирование непрерывной случайной величины $ο$, функция распределения которой $F_{o}(x)$\n",
    "имеет $k > 1$ точек разрыва; $F_{o}(x)$ выбрать самостоятельно, проверить точность\n",
    "моделирования."
   ]
  },
  {
   "cell_type": "markdown",
   "metadata": {},
   "source": [
    "Выбранная функция распределения"
   ]
  },
  {
   "cell_type": "code",
   "execution_count": 42,
   "metadata": {
    "collapsed": true
   },
   "outputs": [],
   "source": [
    "def myCDF(x):\n",
    "    if x<=0:\n",
    "        return 0.0\n",
    "    elif x>0 and x<2:\n",
    "        return 3.0/2.0*x/10.0\n",
    "    elif x>=2 and x<4:\n",
    "        return 4/10.0\n",
    "    elif x>=4 and x<6:\n",
    "        return (x+1.0)/10.0\n",
    "    elif x>=6 and x<8:\n",
    "        return 8.0/10.0\n",
    "    elif x>=8 and x<=10:\n",
    "        return (0.5*x+5.0)/10.0\n",
    "    else:\n",
    "        return 1.0"
   ]
  },
  {
   "cell_type": "markdown",
   "metadata": {},
   "source": [
    "График выбранной функции распределения"
   ]
  },
  {
   "cell_type": "code",
   "execution_count": 43,
   "metadata": {
    "collapsed": false
   },
   "outputs": [
    {
     "data": {
      "image/png": "[encoded data removed]",
      "text/plain": [
       "<matplotlib.figure.Figure at 0x7fab06ad0110>"
      ]
     },
     "metadata": {},
     "output_type": "display_data"
    }
   ],
   "source": [
    "x = np.arange(-0.5,11,0.01)\n",
    "y = map(myCDF,x)\n",
    "plt.scatter(x,y, linewidth='0')\n",
    "plt.ylabel('Probability')\n",
    "plt.xlabel('Value')\n",
    "plt.ylim((.0,1.0))\n",
    "plt.xlim((-0.5,10.5))\n",
    "plt.title(\"My Custom F_o CDF\")\n",
    "plt.yticks(np.arange(0, 1.1, 0.1))\n",
    "plt.xticks(np.arange(0, 10, 1))\n",
    "plt.grid()\n",
    "plt.show()"
   ]
  },
  {
   "cell_type": "markdown",
   "metadata": {},
   "source": [
    "Моделирование СВ, имеющей выбранную функцию распределения"
   ]
  },
  {
   "cell_type": "code",
   "execution_count": 44,
   "metadata": {
    "collapsed": true
   },
   "outputs": [],
   "source": [
    "def myCdfModelling(seq=seq[0:20]):\n",
    "    res = np.zeros(len(seq))\n",
    "    for i in range(len(seq)):\n",
    "        x = seq[i]\n",
    "        if x<0.3:\n",
    "            res[i]= x*2.0/0.3\n",
    "        elif x>=0.3 and x<0.4:\n",
    "            res[i]= 2.0\n",
    "        elif x>=0.4 and x<0.5:\n",
    "            res[i]=4.0\n",
    "        elif x>=0.5 and x<0.7:\n",
    "            res[i]= (x-0.5)/0.1+4.0\n",
    "        elif x>=0.7 and x<0.8:\n",
    "            res[i] = 6.0\n",
    "        elif x>=0.8 and x<0.9:\n",
    "            res[i] = 8.0\n",
    "        elif x>=0.9 and x<=1.0:\n",
    "            res[i] = (x-0.9)/0.1*2.0+8.0\n",
    "        else:\n",
    "            print \"Error occured\"\n",
    "    return res"
   ]
  },
  {
   "cell_type": "markdown",
   "metadata": {},
   "source": [
    "Подсчет ожидаемого матожидания и дисперсии"
   ]
  },
  {
   "cell_type": "code",
   "execution_count": 45,
   "metadata": {
    "collapsed": true
   },
   "outputs": [],
   "source": [
    "def ex2(a,b):\n",
    "    return (a*a+a*b+b*b)/3.0\n",
    "meanExpected = 1*0.3+2*0.1+4*0.1+5*0.2+6*0.1+8*0.1+9*0.1\n",
    "meanSquareExpected = ex2(0,2)*0.3+4*0.1+16*0.1+ex2(4,6)*0.2+36*0.1+64*0.1+ex2(8,10)*0.1\n",
    "varExpected = meanSquareExpected-meanExpected**2"
   ]
  },
  {
   "cell_type": "markdown",
   "metadata": {},
   "source": [
    "Провека выборочного матожидания и дисперсии"
   ]
  },
  {
   "cell_type": "code",
   "execution_count": 46,
   "metadata": {
    "collapsed": false,
    "scrolled": true
   },
   "outputs": [
    {
     "name": "stdout",
     "output_type": "stream",
     "text": [
      "[ 9.99956147  6.          8.          4.          4.          6.          8.\n",
      "  6.          8.          8.93082178  2.          4.          5.63571269\n",
      "  0.20848862  4.          1.26388821  0.42281657  6.          1.67697024\n",
      "  8.        ]\n",
      "Mean observed is 4.2030339936 ======= Mean expected is 4.2\n",
      "Varience is 7.97456797176 ======= Variance expected is 7.96\n"
     ]
    }
   ],
   "source": [
    "mySeq = myCdfModelling(seq)\n",
    "print mySeq[0:20]\n",
    "print \"Mean observed is {0} ======= Mean expected is {1}\".format(np.mean(mySeq),4.2)\n",
    "print \"Varience is {0} ======= Variance expected is {1}\".format(np.var(mySeq),varExpected)"
   ]
  },
  {
   "cell_type": "markdown",
   "metadata": {},
   "source": [
    "Наблюдаемая выборочная функция распределения"
   ]
  },
  {
   "cell_type": "code",
   "execution_count": 47,
   "metadata": {
    "collapsed": false,
    "scrolled": false
   },
   "outputs": [
    {
     "data": {
      "image/png": "[encoded data removed]",
      "text/plain": [
       "<matplotlib.figure.Figure at 0x7fab06b2d250>"
      ]
     },
     "metadata": {},
     "output_type": "display_data"
    }
   ],
   "source": [
    "fig, ax = plt.subplots(1, 1)\n",
    "x = np.sort(myCdfModelling(seq))\n",
    "size = len(x)\n",
    "r = np.arange(1,size+1,dtype='float')/size\n",
    "y = np.zeros(size)\n",
    "y[0] = 1.0/size\n",
    "for i in range(1,size):\n",
    "    if x[i]>=x[i-1]:\n",
    "        y[i] = r[i]\n",
    "    else:\n",
    "        y[i]=y[i-1]\n",
    "plt.plot(x,y)\n",
    "plt.ylabel('CDF value')\n",
    "plt.xlabel('Value')\n",
    "plt.ylim((.0,1.0))\n",
    "plt.xlim((0,10))\n",
    "plt.yticks(np.arange(0, 1.1, 0.1))\n",
    "plt.xticks(np.arange(0, 10, 1))\n",
    "plt.grid()\n",
    "plt.title(\"My Custom F_o CDF\")\n",
    "plt.show()"
   ]
  },
  {
   "cell_type": "markdown",
   "metadata": {},
   "source": [
    "Проверка $\\chi^2$-тестом"
   ]
  },
  {
   "cell_type": "code",
   "execution_count": 48,
   "metadata": {
    "collapsed": false,
    "scrolled": true
   },
   "outputs": [
    {
     "name": "stdout",
     "output_type": "stream",
     "text": [
      "Bins for histogram are \n",
      "[            -inf   9.46989838e-06   1.25000520e+00   2.50000093e+00\n",
      "   3.74999667e+00   4.99999240e+00   6.24998813e+00   7.49998386e+00\n",
      "   8.74997959e+00   9.99997532e+00              inf]\n",
      "Expected probability to be in a bin\n",
      "1.0\n",
      "[  1.42048476e-06   1.87499360e-01   2.12499220e-01   0.00000000e+00\n",
      "   1.99999240e-01   2.00000760e-01   0.00000000e+00   1.37498980e-01\n",
      "   6.24997866e-02   1.23376458e-06]\n",
      "Observed probabilities for bins\n",
      "1.0\n",
      "[ 0.        0.187424  0.212467  0.        0.199693  0.199801  0.        0.13769\n",
      "  0.062925  0.      ]\n",
      "=========================================================\n",
      "Chi2 statistic is 6.51614679175\n",
      "Critical value is 19.2669608184\n",
      "P-value is 0.770196890483\n",
      "(6.5161467917457641, 19.266960818382699, 0.77019689048303752)\n"
     ]
    }
   ],
   "source": [
    "alpha = 0.037\n",
    "df = 10\n",
    "print chi2test(10,mySeq,alpha,myCDF)"
   ]
  },
  {
   "cell_type": "markdown",
   "metadata": {},
   "source": [
    "# Дополнительное задание 1"
   ]
  },
  {
   "cell_type": "markdown",
   "metadata": {},
   "source": [
    "# Моделирование СВ с полиномиальным распределением"
   ]
  },
  {
   "cell_type": "code",
   "execution_count": 49,
   "metadata": {
    "collapsed": true
   },
   "outputs": [],
   "source": [
    "def Multinomial(p=[0.2,0.4,0.1,0.3],n=10,seq=seq[0:100]):\n",
    "    dim = len(p)\n",
    "    bins = np.zeros(dim+1)\n",
    "    for i in range(0,dim):\n",
    "        bins[i+1]=bins[i]+p[i]\n",
    "    count = len(seq)/n\n",
    "    res = np.zeros((count,dim))\n",
    "    for i in range(count):\n",
    "        block = seq[i*n:(i+1)*n]\n",
    "        res[i,] = np.histogram(block,bins=bins)[0]\n",
    "  \n",
    "    return res"
   ]
  },
  {
   "cell_type": "code",
   "execution_count": 53,
   "metadata": {
    "collapsed": true
   },
   "outputs": [],
   "source": [
    "N = 50\n",
    "P = np.array([0.2,0.4,0.1,0.3])\n",
    "multi_numbers = Multinomial(p=P,n=N,seq=seq)"
   ]
  },
  {
   "cell_type": "markdown",
   "metadata": {},
   "source": [
    "Проверка по выборочному матожиданию и дисперсии"
   ]
  },
  {
   "cell_type": "code",
   "execution_count": 57,
   "metadata": {
    "collapsed": false
   },
   "outputs": [],
   "source": [
    "# нахождение ковариационной матрицы для полиномиального распределения\n",
    "def covMulti(p=np.array([0.2,0.4,0.1,0.3]),n=10):\n",
    "    central = N*p*(1-p)\n",
    "    other = -N*np.outer(p,p)\n",
    "    other.flat[::len(other)+1] = central\n",
    "    return other"
   ]
  },
  {
   "cell_type": "code",
   "execution_count": 58,
   "metadata": {
    "collapsed": false
   },
   "outputs": [
    {
     "name": "stdout",
     "output_type": "stream",
     "text": [
      "[[  9.  15.   5.  21.]\n",
      " [  6.  26.   3.  15.]\n",
      " [ 10.  17.   8.  15.]\n",
      " [ 11.  21.   7.  11.]\n",
      " [ 11.  16.   5.  18.]]\n",
      "Mean observed is \n",
      "[  9.9946   19.98465   4.98935  15.0314 ]\n",
      "Mean expected is \n",
      "[ 10.  20.   5.  15.]\n",
      "Varience is \n",
      "[[  7.89776573  -3.82677423  -0.93870445  -3.13228705]\n",
      " [ -3.82677423  11.81910533  -2.09506823  -5.89726287]\n",
      " [ -0.93870445  -2.09506823   4.52616289  -1.49239021]\n",
      " [ -3.13228705  -5.89726287  -1.49239021  10.52194014]]\n",
      " Variance expected is\n",
      " [[  8.   -4.   -1.   -3. ]\n",
      " [ -4.   12.   -2.   -6. ]\n",
      " [ -1.   -2.    4.5  -1.5]\n",
      " [ -3.   -6.   -1.5  10.5]]\n"
     ]
    }
   ],
   "source": [
    "N = 50\n",
    "P = np.array([0.2,0.4,0.1,0.3])\n",
    "multi_numbers = Multinomial(p=P,n=N,seq=seq)\n",
    "print multi_numbers[0:5,:]\n",
    "print \"Mean observed is \\n{0}\\nMean expected is \\n{1}\".format(np.mean(multi_numbers,axis=0),P*N)\n",
    "print \"Varience is \\n{0}\\n Variance expected is\\n {1}\".format(np.cov(multi_numbers,rowvar=False),covMulti(P,N))"
   ]
  },
  {
   "cell_type": "markdown",
   "metadata": {},
   "source": [
    "# Дополнительное задание 2\n",
    "# Реализовать тест Колмогорова"
   ]
  },
  {
   "cell_type": "code",
   "execution_count": 60,
   "metadata": {
    "collapsed": false
   },
   "outputs": [
    {
     "name": "stdout",
     "output_type": "stream",
     "text": [
      "1.41244195401\n"
     ]
    },
    {
     "data": {
      "text/plain": [
       "1.4124408332975502"
      ]
     },
     "execution_count": 60,
     "metadata": {},
     "output_type": "execute_result"
    }
   ],
   "source": [
    "from scipy.stats import kstwobign\n",
    "def myKSinv(alpha):\n",
    "    return math.sqrt(-math.log((1.0-alpha)/2.0)/2.0)\n",
    "print myKSinv(1-0.037)\n",
    "kstwobign.ppf(1-0.037)"
   ]
  },
  {
   "cell_type": "code",
   "execution_count": 66,
   "metadata": {
    "collapsed": false
   },
   "outputs": [],
   "source": [
    "def KolmogorovTest(seq,cdf,alpha=0.037, verbose=True,*args):\n",
    "    x = np.sort(seq)\n",
    "    size = len(x)\n",
    "    r = np.arange(1,size+1,dtype='float')/size\n",
    "    y = np.zeros(size)\n",
    "    y[0] = 1.0/size\n",
    "    for i in range(1,size):\n",
    "        if x[i]>=x[i-1]:\n",
    "            y[i] = r[i]\n",
    "        else:\n",
    "            y[i]=y[i-1]\n",
    "    expected = map(lambda a: cdf(a,*args),x)\n",
    "    KSstatistic = math.sqrt(len(x))*np.max(y-expected)\n",
    "    if verbose:\n",
    "        print \"Kolmogorov-Smirnov Statistic is \",np.max(y-expected)\n",
    "        print \"sqrt(n)*D is \", KSstatistic\n",
    "        print \"Critical value is \",myKSinv(1-alpha)\n",
    "        #print \"Critical value is \",kstwobign.ppf(1-alpha)\n",
    "        print \"P-value is \",1-kstwobign.cdf(KSstatistic)\n",
    "    if KSstatistic<myKSinv(1-alpha):\n",
    "        return 1\n",
    "    else:\n",
    "        return 0"
   ]
  },
  {
   "cell_type": "code",
   "execution_count": 67,
   "metadata": {
    "collapsed": false
   },
   "outputs": [
    {
     "name": "stdout",
     "output_type": "stream",
     "text": [
      "Kolmogorov-Smirnov Statistic is  0.000933544210053\n",
      "sqrt(n)*D is  0.295212600023\n",
      "Critical value is  1.41244195401\n",
      "P-value is  0.999993959255\n"
     ]
    },
    {
     "data": {
      "text/plain": [
       "1"
      ]
     },
     "execution_count": 67,
     "metadata": {},
     "output_type": "execute_result"
    }
   ],
   "source": [
    "KolmogorovTest(norm.rvs(size =100000,random_state=42),norm.cdf,0.037,True,0,1)"
   ]
  },
  {
   "cell_type": "code",
   "execution_count": 68,
   "metadata": {
    "collapsed": false
   },
   "outputs": [
    {
     "data": {
      "text/plain": [
       "KstestResult(statistic=0.00093354421005298338, pvalue=0.8395216890950703)"
      ]
     },
     "execution_count": 68,
     "metadata": {},
     "output_type": "execute_result"
    }
   ],
   "source": [
    "sst.kstest(norm.rvs(size =100000,random_state=42),'norm',alternative=\"greater\")"
   ]
  },
  {
   "cell_type": "code",
   "execution_count": 69,
   "metadata": {
    "collapsed": false,
    "scrolled": false
   },
   "outputs": [
    {
     "name": "stdout",
     "output_type": "stream",
     "text": [
      "Kolmogorov-Smirnov Statistic is  0.000755548788854\n",
      "sqrt(n)*D is  0.534253672116\n",
      "Critical value is  1.41244195401\n",
      "P-value is  0.937742431017\n"
     ]
    },
    {
     "data": {
      "text/plain": [
       "1"
      ]
     },
     "execution_count": 69,
     "metadata": {},
     "output_type": "execute_result"
    }
   ],
   "source": [
    "KolmogorovTest(gaussian_numbers2[0:500000] ,cdf=norm.cdf, alpha=0.037)"
   ]
  },
  {
   "cell_type": "markdown",
   "metadata": {},
   "source": [
    "# Дополнительное задание 3"
   ]
  },
  {
   "cell_type": "markdown",
   "metadata": {},
   "source": [
    "Осуществить моделирование двух серий, каждую из которых составляют $U = 30 000$ независимых реализаций случайной величины. Законы распределения вероятностей для каждой из серий выбрать самостоятельно (законы должны быть различными): $R_{1}$ – распределение вероятностей для первой серии, $R_{2}$ – для второй. С помощью критерия согласия для каждой реализации осуществить проверку гипотез $H_0^{(i)} =\\{$реализация согласуется с распределением вероятностей $R_i \\}$, против альтернатив $H_1^{(i)} = \\overline{H_0^{(i)}}, i = 1,2$. Для каждой из двух смоделированных серий длины $U$ вычислить величины: $\\zeta_{(i)} = \\displaystyle\\sum_{u=1}^U I_u\\{H_1^{(i)}\\}$, $i = 1, 2$,\n",
    "где $I_u\\{H_1^{(i)}\\}= 1$, если для $u$-ой реализации принимается решение в пользу\n",
    "альтернативы $H_1^{(i)}$, $I_u\\{H_1^{(i)}\\} = 0$ в противном случае."
   ]
  },
  {
   "cell_type": "code",
   "execution_count": 70,
   "metadata": {
    "collapsed": true
   },
   "outputs": [],
   "source": [
    "seq1 = Normal(10,2,N=len(seq),seq=seq)\n",
    "alpha = 3.0\n",
    "beta=2.0\n",
    "seq2 = "
   ]
  },
  {
   "cell_type": "code",
   "execution_count": 71,
   "metadata": {
    "collapsed": true
   },
   "outputs": [],
   "source": [
    "U = 30000\n",
    "count = len(seq)/U"
   ]
  },
  {
   "cell_type": "code",
   "execution_count": 73,
   "metadata": {
    "collapsed": false
   },
   "outputs": [
    {
     "name": "stdout",
     "output_type": "stream",
     "text": [
      "29514.0\n",
      "30000.0\n",
      "0.9838\n",
      "1.0\n"
     ]
    }
   ],
   "source": [
    "s1 = 0.0\n",
    "s2 = 0.0\n",
    "for i in range(U):\n",
    "    block1 = seq1[i*count:i*count+count]\n",
    "    block2 = seq2[i*count:i*count+count]\n",
    "    s1 +=KolmogorovTest(block1,norm.cdf,0.037,False,10,2)\n",
    "    s2 +=KolmogorovTest(block2,laplace.cdf,0.037,False,1/alpha,beta)\n",
    "print s1\n",
    "print s2\n",
    "print s1/U\n",
    "print s2/U"
   ]
  },
  {
   "cell_type": "code",
   "execution_count": 75,
   "metadata": {
    "collapsed": false
   },
   "outputs": [
    {
     "data": {
      "text/plain": [
       "0.963"
      ]
     },
     "execution_count": 75,
     "metadata": {},
     "output_type": "execute_result"
    }
   ],
   "source": [
    "1-0.037"
   ]
  },
  {
   "cell_type": "code",
   "execution_count": null,
   "metadata": {
    "collapsed": true
   },
   "outputs": [],
   "source": [
    "block"
   ]
  },
  {
   "cell_type": "code",
   "execution_count": 77,
   "metadata": {
    "collapsed": false
   },
   "outputs": [
    {
     "name": "stdout",
     "output_type": "stream",
     "text": [
      "30000.0\n",
      "0.0\n",
      "1.0\n",
      "0.0\n"
     ]
    }
   ],
   "source": [
    "s1 = 0.0\n",
    "s2 = 0.0\n",
    "for i in range(U):\n",
    "    block1 = seq1[i*count:i*count+count]\n",
    "    block2 = seq2[i*count:i*count+count]\n",
    "    s1 +=KolmogorovTest(block1,laplace.cdf,0.037,False,1/alpha+1,beta+1)\n",
    "    s2 +=KolmogorovTest(block2,norm.cdf,0.037,False,10,2)\n",
    "print s1\n",
    "print s2\n",
    "print \"=============\"\n",
    "print s1/U\n",
    "print s2/U"
   ]
  },
  {
   "cell_type": "markdown",
   "metadata": {},
   "source": [
    "# Нормальное vs Вейбулл"
   ]
  },
  {
   "cell_type": "code",
   "execution_count": 83,
   "metadata": {
    "collapsed": false
   },
   "outputs": [],
   "source": [
    "from scipy.stats import weibull_min\n",
    "c = 1.78661669304\n",
    "seq1 = norm.rvs(loc=1,scale=3,size=3000000)\n",
    "seq2 = weibull_min.rvs(c, size=3000000)\n",
    "U = 30000\n",
    "count = len(seq1)/U"
   ]
  },
  {
   "cell_type": "code",
   "execution_count": 86,
   "metadata": {
    "collapsed": false
   },
   "outputs": [
    {
     "name": "stdout",
     "output_type": "stream",
     "text": [
      "Processed  0\n",
      "Processed  1000\n",
      "Processed  2000\n",
      "Processed  3000\n",
      "Processed  4000\n",
      "Processed  5000\n",
      "Processed  6000\n",
      "Processed  7000\n",
      "Processed  8000\n",
      "Processed  9000\n",
      "Processed  10000\n",
      "Processed  11000\n",
      "Processed  12000\n",
      "Processed  13000\n",
      "Processed  14000\n",
      "Processed  15000\n",
      "Processed  16000\n",
      "Processed  17000\n",
      "Processed  18000\n",
      "Processed  19000\n",
      "Processed  20000\n",
      "Processed  21000\n",
      "Processed  22000\n",
      "Processed  23000\n",
      "Processed  24000\n",
      "Processed  25000\n",
      "Processed  26000\n",
      "Processed  27000\n",
      "Processed  28000\n",
      "Processed  29000\n",
      "====================\n",
      "0.0\n",
      "0.0\n",
      "=============\n",
      "0.0\n",
      "0.0\n"
     ]
    }
   ],
   "source": [
    "s1 = 0.0\n",
    "s2 = 0.0\n",
    "for i in range(U):\n",
    "    if i%1000==0:\n",
    "        print \"Processed \",i\n",
    "    block1 = seq1[i*count:i*count+count]\n",
    "    block2 = seq2[i*count:i*count+count]\n",
    "    s1 +=KolmogorovTest(block2,norm.cdf,0.037,False,1,3)\n",
    "    s2 +=KolmogorovTest(block1,weibull_min.cdf,0.037,False,c)\n",
    "print \"====================\"\n",
    "print s1\n",
    "print s2\n",
    "print \"=============\"\n",
    "print s1/U\n",
    "print s2/U"
   ]
  },
  {
   "cell_type": "code",
   "execution_count": 85,
   "metadata": {
    "collapsed": false
   },
   "outputs": [
    {
     "data": {
      "text/plain": [
       "0.963"
      ]
     },
     "execution_count": 85,
     "metadata": {},
     "output_type": "execute_result"
    }
   ],
   "source": [
    "1-0.037"
   ]
  },
  {
   "cell_type": "markdown",
   "metadata": {
    "collapsed": true
   },
   "source": [
    "Тест на всём библиотечном"
   ]
  },
  {
   "cell_type": "code",
   "execution_count": null,
   "metadata": {
    "collapsed": true
   },
   "outputs": [],
   "source": []
  },
  {
   "cell_type": "code",
   "execution_count": null,
   "metadata": {
    "collapsed": true
   },
   "outputs": [],
   "source": []
  },
  {
   "cell_type": "code",
   "execution_count": null,
   "metadata": {
    "collapsed": true
   },
   "outputs": [],
   "source": []
  },
  {
   "cell_type": "code",
   "execution_count": null,
   "metadata": {
    "collapsed": true
   },
   "outputs": [],
   "source": []
  }
 ],
 "metadata": {
  "kernelspec": {
   "display_name": "Python 2",
   "language": "python",
   "name": "python2"
  },
  "language_info": {
   "codemirror_mode": {
    "name": "ipython",
    "version": 2
   },
   "file_extension": ".py",
   "mimetype": "text/x-python",
   "name": "python",
   "nbconvert_exporter": "python",
   "pygments_lexer": "ipython2",
   "version": "2.7.11"
  }
 },
 "nbformat": 4,
 "nbformat_minor": 0
}
