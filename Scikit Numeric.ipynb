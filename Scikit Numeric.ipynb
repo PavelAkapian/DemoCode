{
 "cells": [
  {
   "cell_type": "code",
   "execution_count": 1,
   "metadata": {
    "collapsed": true
   },
   "outputs": [],
   "source": [
    "import pandas as pd\n",
    "import numpy as np\n",
    "import math as m\n",
    "from datetime import datetime\n",
    "import matplotlib.pyplot as plt\n",
    "%matplotlib inline "
   ]
  },
  {
   "cell_type": "code",
   "execution_count": 2,
   "metadata": {
    "collapsed": true
   },
   "outputs": [],
   "source": [
    "data = pd.read_csv('forLearning2016.csv')"
   ]
  },
  {
   "cell_type": "code",
   "execution_count": 3,
   "metadata": {
    "collapsed": false
   },
   "outputs": [
    {
     "data": {
      "text/plain": [
       "11"
      ]
     },
     "execution_count": 3,
     "metadata": {},
     "output_type": "execute_result"
    }
   ],
   "source": [
    "len(data.ix[data['soldPrice']>10**7])"
   ]
  },
  {
   "cell_type": "code",
   "execution_count": 4,
   "metadata": {
    "collapsed": false
   },
   "outputs": [
    {
     "data": {
      "text/html": [
       "<div>\n",
       "<table border=\"1\" class=\"dataframe\">\n",
       "  <thead>\n",
       "    <tr style=\"text-align: right;\">\n",
       "      <th></th>\n",
       "      <th>id</th>\n",
       "      <th>beds</th>\n",
       "      <th>baths</th>\n",
       "      <th>sqft</th>\n",
       "      <th>sqftlot</th>\n",
       "      <th>built</th>\n",
       "      <th>soldPrice</th>\n",
       "      <th>lat</th>\n",
       "      <th>lon</th>\n",
       "      <th>sqftRatio</th>\n",
       "      <th>zip</th>\n",
       "      <th>street</th>\n",
       "      <th>yOld</th>\n",
       "      <th>soldOnDate</th>\n",
       "    </tr>\n",
       "  </thead>\n",
       "  <tbody>\n",
       "    <tr>\n",
       "      <th>0</th>\n",
       "      <td>1</td>\n",
       "      <td>4</td>\n",
       "      <td>2</td>\n",
       "      <td>1650</td>\n",
       "      <td>3162</td>\n",
       "      <td>1956</td>\n",
       "      <td>880000</td>\n",
       "      <td>37.693868</td>\n",
       "      <td>-122.495487</td>\n",
       "      <td>1.916364</td>\n",
       "      <td>94015</td>\n",
       "      <td>Skyline-Dr-Daly-City</td>\n",
       "      <td>60</td>\n",
       "      <td>2015-10-09</td>\n",
       "    </tr>\n",
       "    <tr>\n",
       "      <th>1</th>\n",
       "      <td>2</td>\n",
       "      <td>3</td>\n",
       "      <td>2</td>\n",
       "      <td>1200</td>\n",
       "      <td>3528</td>\n",
       "      <td>1958</td>\n",
       "      <td>825000</td>\n",
       "      <td>37.693259</td>\n",
       "      <td>-122.495785</td>\n",
       "      <td>2.940000</td>\n",
       "      <td>94015</td>\n",
       "      <td>Roslyn-Ct-Daly-City</td>\n",
       "      <td>58</td>\n",
       "      <td>2015-09-03</td>\n",
       "    </tr>\n",
       "    <tr>\n",
       "      <th>2</th>\n",
       "      <td>3</td>\n",
       "      <td>2</td>\n",
       "      <td>1</td>\n",
       "      <td>1220</td>\n",
       "      <td>3800</td>\n",
       "      <td>1953</td>\n",
       "      <td>850000</td>\n",
       "      <td>37.699788</td>\n",
       "      <td>-122.494274</td>\n",
       "      <td>3.114754</td>\n",
       "      <td>94015</td>\n",
       "      <td>Glenwood-Ave-Daly-City</td>\n",
       "      <td>63</td>\n",
       "      <td>2015-07-02</td>\n",
       "    </tr>\n",
       "    <tr>\n",
       "      <th>3</th>\n",
       "      <td>4</td>\n",
       "      <td>2</td>\n",
       "      <td>1</td>\n",
       "      <td>1050</td>\n",
       "      <td>3162</td>\n",
       "      <td>1956</td>\n",
       "      <td>711000</td>\n",
       "      <td>37.693603</td>\n",
       "      <td>-122.495372</td>\n",
       "      <td>3.011429</td>\n",
       "      <td>94015</td>\n",
       "      <td>Skyline-Dr-Daly-City</td>\n",
       "      <td>60</td>\n",
       "      <td>2014-11-07</td>\n",
       "    </tr>\n",
       "    <tr>\n",
       "      <th>4</th>\n",
       "      <td>5</td>\n",
       "      <td>4</td>\n",
       "      <td>2</td>\n",
       "      <td>1690</td>\n",
       "      <td>3301</td>\n",
       "      <td>1954</td>\n",
       "      <td>767000</td>\n",
       "      <td>37.695735</td>\n",
       "      <td>-122.494190</td>\n",
       "      <td>1.953254</td>\n",
       "      <td>94015</td>\n",
       "      <td>S-Mayfair-Ave-Daly-City</td>\n",
       "      <td>62</td>\n",
       "      <td>2014-10-31</td>\n",
       "    </tr>\n",
       "  </tbody>\n",
       "</table>\n",
       "</div>"
      ],
      "text/plain": [
       "   id  beds  baths  sqft  sqftlot  built  soldPrice        lat         lon  \\\n",
       "0   1     4      2  1650     3162   1956     880000  37.693868 -122.495487   \n",
       "1   2     3      2  1200     3528   1958     825000  37.693259 -122.495785   \n",
       "2   3     2      1  1220     3800   1953     850000  37.699788 -122.494274   \n",
       "3   4     2      1  1050     3162   1956     711000  37.693603 -122.495372   \n",
       "4   5     4      2  1690     3301   1954     767000  37.695735 -122.494190   \n",
       "\n",
       "   sqftRatio    zip                   street  yOld  soldOnDate  \n",
       "0   1.916364  94015     Skyline-Dr-Daly-City    60  2015-10-09  \n",
       "1   2.940000  94015      Roslyn-Ct-Daly-City    58  2015-09-03  \n",
       "2   3.114754  94015   Glenwood-Ave-Daly-City    63  2015-07-02  \n",
       "3   3.011429  94015     Skyline-Dr-Daly-City    60  2014-11-07  \n",
       "4   1.953254  94015  S-Mayfair-Ave-Daly-City    62  2014-10-31  "
      ]
     },
     "execution_count": 4,
     "metadata": {},
     "output_type": "execute_result"
    }
   ],
   "source": [
    "data.head()"
   ]
  },
  {
   "cell_type": "code",
   "execution_count": 5,
   "metadata": {
    "collapsed": false,
    "scrolled": true
   },
   "outputs": [
    {
     "data": {
      "text/html": [
       "<div>\n",
       "<table border=\"1\" class=\"dataframe\">\n",
       "  <thead>\n",
       "    <tr style=\"text-align: right;\">\n",
       "      <th></th>\n",
       "      <th>beds</th>\n",
       "      <th>baths</th>\n",
       "      <th>sqft</th>\n",
       "      <th>sqftlot</th>\n",
       "      <th>yOld</th>\n",
       "      <th>sqftRatio</th>\n",
       "      <th>soldOnDate</th>\n",
       "    </tr>\n",
       "  </thead>\n",
       "  <tbody>\n",
       "    <tr>\n",
       "      <th>0</th>\n",
       "      <td>4</td>\n",
       "      <td>2</td>\n",
       "      <td>1650</td>\n",
       "      <td>3162</td>\n",
       "      <td>60</td>\n",
       "      <td>1.916364</td>\n",
       "      <td>2015-10-09</td>\n",
       "    </tr>\n",
       "    <tr>\n",
       "      <th>1</th>\n",
       "      <td>3</td>\n",
       "      <td>2</td>\n",
       "      <td>1200</td>\n",
       "      <td>3528</td>\n",
       "      <td>58</td>\n",
       "      <td>2.940000</td>\n",
       "      <td>2015-09-03</td>\n",
       "    </tr>\n",
       "    <tr>\n",
       "      <th>2</th>\n",
       "      <td>2</td>\n",
       "      <td>1</td>\n",
       "      <td>1220</td>\n",
       "      <td>3800</td>\n",
       "      <td>63</td>\n",
       "      <td>3.114754</td>\n",
       "      <td>2015-07-02</td>\n",
       "    </tr>\n",
       "    <tr>\n",
       "      <th>3</th>\n",
       "      <td>2</td>\n",
       "      <td>1</td>\n",
       "      <td>1050</td>\n",
       "      <td>3162</td>\n",
       "      <td>60</td>\n",
       "      <td>3.011429</td>\n",
       "      <td>2014-11-07</td>\n",
       "    </tr>\n",
       "    <tr>\n",
       "      <th>4</th>\n",
       "      <td>4</td>\n",
       "      <td>2</td>\n",
       "      <td>1690</td>\n",
       "      <td>3301</td>\n",
       "      <td>62</td>\n",
       "      <td>1.953254</td>\n",
       "      <td>2014-10-31</td>\n",
       "    </tr>\n",
       "  </tbody>\n",
       "</table>\n",
       "</div>"
      ],
      "text/plain": [
       "   beds  baths  sqft  sqftlot  yOld  sqftRatio  soldOnDate\n",
       "0     4      2  1650     3162    60   1.916364  2015-10-09\n",
       "1     3      2  1200     3528    58   2.940000  2015-09-03\n",
       "2     2      1  1220     3800    63   3.114754  2015-07-02\n",
       "3     2      1  1050     3162    60   3.011429  2014-11-07\n",
       "4     4      2  1690     3301    62   1.953254  2014-10-31"
      ]
     },
     "execution_count": 5,
     "metadata": {},
     "output_type": "execute_result"
    }
   ],
   "source": [
    "X = data[['beds','baths','sqft', 'sqftlot','yOld','sqftRatio', 'soldOnDate']]\n",
    "X.head()"
   ]
  },
  {
   "cell_type": "code",
   "execution_count": 6,
   "metadata": {
    "collapsed": false
   },
   "outputs": [
    {
     "data": {
      "text/plain": [
       "0    880000\n",
       "1    825000\n",
       "2    850000\n",
       "3    711000\n",
       "4    767000\n",
       "Name: soldPrice, dtype: float64"
      ]
     },
     "execution_count": 6,
     "metadata": {},
     "output_type": "execute_result"
    }
   ],
   "source": [
    "y = data['soldPrice']\n",
    "y.head()"
   ]
  },
  {
   "cell_type": "markdown",
   "metadata": {},
   "source": [
    "## Turn date to days from January 1th, 2016"
   ]
  },
  {
   "cell_type": "code",
   "execution_count": 7,
   "metadata": {
    "collapsed": true
   },
   "outputs": [],
   "source": [
    "x = data['soldOnDate'].apply(lambda x:  (np.datetime64('2016-01-01')-np.datetime64(x)).astype(int))"
   ]
  },
  {
   "cell_type": "code",
   "execution_count": 8,
   "metadata": {
    "collapsed": true
   },
   "outputs": [
    {
     "name": "stderr",
     "output_type": "stream",
     "text": [
      "/home/pavel/anaconda/lib/python2.7/site-packages/ipykernel/__main__.py:1: SettingWithCopyWarning: \n",
      "A value is trying to be set on a copy of a slice from a DataFrame.\n",
      "Try using .loc[row_indexer,col_indexer] = value instead\n",
      "\n",
      "See the caveats in the documentation: http://pandas.pydata.org/pandas-docs/stable/indexing.html#indexing-view-versus-copy\n",
      "  if __name__ == '__main__':\n"
     ]
    }
   ],
   "source": [
    "X['soldOnDate'] = x"
   ]
  },
  {
   "cell_type": "code",
   "execution_count": 9,
   "metadata": {
    "collapsed": false,
    "scrolled": true
   },
   "outputs": [
    {
     "data": {
      "text/html": [
       "<div>\n",
       "<table border=\"1\" class=\"dataframe\">\n",
       "  <thead>\n",
       "    <tr style=\"text-align: right;\">\n",
       "      <th></th>\n",
       "      <th>beds</th>\n",
       "      <th>baths</th>\n",
       "      <th>sqft</th>\n",
       "      <th>sqftlot</th>\n",
       "      <th>yOld</th>\n",
       "      <th>sqftRatio</th>\n",
       "      <th>soldOnDate</th>\n",
       "    </tr>\n",
       "  </thead>\n",
       "  <tbody>\n",
       "    <tr>\n",
       "      <th>0</th>\n",
       "      <td>4</td>\n",
       "      <td>2</td>\n",
       "      <td>1650</td>\n",
       "      <td>3162</td>\n",
       "      <td>60</td>\n",
       "      <td>1.916364</td>\n",
       "      <td>84</td>\n",
       "    </tr>\n",
       "    <tr>\n",
       "      <th>1</th>\n",
       "      <td>3</td>\n",
       "      <td>2</td>\n",
       "      <td>1200</td>\n",
       "      <td>3528</td>\n",
       "      <td>58</td>\n",
       "      <td>2.940000</td>\n",
       "      <td>120</td>\n",
       "    </tr>\n",
       "    <tr>\n",
       "      <th>2</th>\n",
       "      <td>2</td>\n",
       "      <td>1</td>\n",
       "      <td>1220</td>\n",
       "      <td>3800</td>\n",
       "      <td>63</td>\n",
       "      <td>3.114754</td>\n",
       "      <td>183</td>\n",
       "    </tr>\n",
       "    <tr>\n",
       "      <th>3</th>\n",
       "      <td>2</td>\n",
       "      <td>1</td>\n",
       "      <td>1050</td>\n",
       "      <td>3162</td>\n",
       "      <td>60</td>\n",
       "      <td>3.011429</td>\n",
       "      <td>420</td>\n",
       "    </tr>\n",
       "    <tr>\n",
       "      <th>4</th>\n",
       "      <td>4</td>\n",
       "      <td>2</td>\n",
       "      <td>1690</td>\n",
       "      <td>3301</td>\n",
       "      <td>62</td>\n",
       "      <td>1.953254</td>\n",
       "      <td>427</td>\n",
       "    </tr>\n",
       "  </tbody>\n",
       "</table>\n",
       "</div>"
      ],
      "text/plain": [
       "   beds  baths  sqft  sqftlot  yOld  sqftRatio  soldOnDate\n",
       "0     4      2  1650     3162    60   1.916364          84\n",
       "1     3      2  1200     3528    58   2.940000         120\n",
       "2     2      1  1220     3800    63   3.114754         183\n",
       "3     2      1  1050     3162    60   3.011429         420\n",
       "4     4      2  1690     3301    62   1.953254         427"
      ]
     },
     "execution_count": 9,
     "metadata": {},
     "output_type": "execute_result"
    }
   ],
   "source": [
    "X.head()"
   ]
  },
  {
   "cell_type": "markdown",
   "metadata": {},
   "source": [
    "## Making test-train partitions"
   ]
  },
  {
   "cell_type": "code",
   "execution_count": 10,
   "metadata": {
    "collapsed": false
   },
   "outputs": [],
   "source": [
    "from sklearn.cross_validation import train_test_split\n",
    "X_train, X_test, y_train, y_test = train_test_split(X, y, test_size=0.10, random_state=42)"
   ]
  },
  {
   "cell_type": "code",
   "execution_count": 11,
   "metadata": {
    "collapsed": false
   },
   "outputs": [
    {
     "data": {
      "text/plain": [
       "790"
      ]
     },
     "execution_count": 11,
     "metadata": {},
     "output_type": "execute_result"
    }
   ],
   "source": [
    "len(X_test)"
   ]
  },
  {
   "cell_type": "markdown",
   "metadata": {},
   "source": [
    "## Dealing with NA"
   ]
  },
  {
   "cell_type": "code",
   "execution_count": 12,
   "metadata": {
    "collapsed": true
   },
   "outputs": [],
   "source": [
    "from sklearn.preprocessing import Imputer\n",
    "imp = Imputer(strategy = 'median')\n",
    "X_train_imp =imp.fit_transform(X_train)\n",
    "X_test_imp = imp.transform(X_test)"
   ]
  },
  {
   "cell_type": "markdown",
   "metadata": {},
   "source": [
    "## Normalization"
   ]
  },
  {
   "cell_type": "code",
   "execution_count": 13,
   "metadata": {
    "collapsed": false
   },
   "outputs": [],
   "source": [
    "from sklearn.preprocessing import StandardScaler\n",
    "scaler = StandardScaler()\n",
    "X_train_scaled = scaler.fit_transform(X_train_imp)\n",
    "X_test_scaled = scaler.transform(X_test_imp)"
   ]
  },
  {
   "cell_type": "markdown",
   "metadata": {},
   "source": [
    "## Cross-validation preparation"
   ]
  },
  {
   "cell_type": "code",
   "execution_count": 14,
   "metadata": {
    "collapsed": false
   },
   "outputs": [],
   "source": [
    "from sklearn.cross_validation import KFold\n",
    "cv = KFold(n_folds= 10,random_state=42, shuffle = True, n = len(y_train))"
   ]
  },
  {
   "cell_type": "markdown",
   "metadata": {},
   "source": [
    "## Baseline with mean and median"
   ]
  },
  {
   "cell_type": "code",
   "execution_count": 15,
   "metadata": {
    "collapsed": false
   },
   "outputs": [
    {
     "name": "stdout",
     "output_type": "stream",
     "text": [
      "Mean price is  1118637.27596\n",
      "Median price is  875000.0\n"
     ]
    }
   ],
   "source": [
    "meanPrice = y.mean()\n",
    "medianPrice = y.median()\n",
    "print 'Mean price is ',meanPrice\n",
    "print 'Median price is ',medianPrice"
   ]
  },
  {
   "cell_type": "code",
   "execution_count": 16,
   "metadata": {
    "collapsed": false
   },
   "outputs": [
    {
     "name": "stdout",
     "output_type": "stream",
     "text": [
      "RMSE is  1472250.3628\n",
      "MAE for MEDIAN 275000.0\n",
      "mae/median 0.314285714286\n"
     ]
    }
   ],
   "source": [
    "rmse = m.sqrt(np.mean((meanPrice-y_train)**2))\n",
    "mae = np.median(np.abs(medianPrice-y_train))\n",
    "print 'RMSE is ', rmse\n",
    "print 'MAE for MEDIAN', mae\n",
    "print 'mae/median', mae/np.median(y)"
   ]
  },
  {
   "cell_type": "markdown",
   "metadata": {},
   "source": [
    "# kNN regressor"
   ]
  },
  {
   "cell_type": "code",
   "execution_count": 17,
   "metadata": {
    "collapsed": true
   },
   "outputs": [],
   "source": [
    "from sklearn.neighbors import KNeighborsRegressor\n",
    "from sklearn.grid_search import GridSearchCV\n",
    "from sklearn.cross_validation import *"
   ]
  },
  {
   "cell_type": "code",
   "execution_count": 18,
   "metadata": {
    "collapsed": false
   },
   "outputs": [],
   "source": [
    "rgr = KNeighborsRegressor()\n",
    "param_grid = {\n",
    "    \"n_neighbors\": range(1,40,2),\n",
    "    \"p\" : [1,1.2,1.5,1.7,2,2.2]\n",
    "    }"
   ]
  },
  {
   "cell_type": "code",
   "execution_count": 19,
   "metadata": {
    "collapsed": false
   },
   "outputs": [
    {
     "data": {
      "text/plain": [
       "GridSearchCV(cv=sklearn.cross_validation.KFold(n=7106, n_folds=10, shuffle=True, random_state=42),\n",
       "       error_score='raise',\n",
       "       estimator=KNeighborsRegressor(algorithm='auto', leaf_size=30, metric='minkowski',\n",
       "          metric_params=None, n_jobs=1, n_neighbors=5, p=2,\n",
       "          weights='uniform'),\n",
       "       fit_params={}, iid=True, n_jobs=3,\n",
       "       param_grid={'n_neighbors': [1, 3, 5, 7, 9, 11, 13, 15, 17, 19, 21, 23, 25, 27, 29, 31, 33, 35, 37, 39], 'p': [1, 1.2, 1.5, 1.7, 2, 2.2]},\n",
       "       pre_dispatch='2*n_jobs', refit=True,\n",
       "       scoring='median_absolute_error', verbose=0)"
      ]
     },
     "execution_count": 19,
     "metadata": {},
     "output_type": "execute_result"
    }
   ],
   "source": [
    "grid_search = GridSearchCV(rgr, param_grid=param_grid, n_jobs = 3,cv = cv, scoring='median_absolute_error')\n",
    "grid_search.fit(X_train_scaled, y_train)"
   ]
  },
  {
   "cell_type": "code",
   "execution_count": 20,
   "metadata": {
    "collapsed": false
   },
   "outputs": [
    {
     "data": {
      "text/plain": [
       "KNeighborsRegressor(algorithm='auto', leaf_size=30, metric='minkowski',\n",
       "          metric_params=None, n_jobs=1, n_neighbors=29, p=1,\n",
       "          weights='uniform')"
      ]
     },
     "execution_count": 20,
     "metadata": {},
     "output_type": "execute_result"
    }
   ],
   "source": [
    "grid_search.best_estimator_"
   ]
  },
  {
   "cell_type": "code",
   "execution_count": 21,
   "metadata": {
    "collapsed": false
   },
   "outputs": [
    {
     "data": {
      "text/plain": [
       "-221406.57620563495"
      ]
     },
     "execution_count": 21,
     "metadata": {},
     "output_type": "execute_result"
    }
   ],
   "source": [
    "grid_search.best_score_"
   ]
  },
  {
   "cell_type": "code",
   "execution_count": 22,
   "metadata": {
    "collapsed": false
   },
   "outputs": [
    {
     "name": "stderr",
     "output_type": "stream",
     "text": [
      "/home/pavel/anaconda/lib/python2.7/site-packages/sklearn/grid_search.py:418: ChangedBehaviorWarning: The long-standing behavior to use the estimator's score function in GridSearchCV.score has changed. The scoring parameter is now used.\n",
      "  ChangedBehaviorWarning)\n"
     ]
    },
    {
     "data": {
      "text/plain": [
       "217517.24137931038"
      ]
     },
     "execution_count": 22,
     "metadata": {},
     "output_type": "execute_result"
    }
   ],
   "source": [
    "-grid_search.score(X_test_scaled,y_test)"
   ]
  },
  {
   "cell_type": "code",
   "execution_count": 23,
   "metadata": {
    "collapsed": false
   },
   "outputs": [
    {
     "data": {
      "text/plain": [
       "0.24859113300492613"
      ]
     },
     "execution_count": 23,
     "metadata": {},
     "output_type": "execute_result"
    }
   ],
   "source": [
    "-grid_search.score(X_test_scaled,y_test)/np.median(y)"
   ]
  },
  {
   "cell_type": "code",
   "execution_count": 24,
   "metadata": {
    "collapsed": false
   },
   "outputs": [],
   "source": [
    "knn_results = pd.DataFrame(index=np.arange(0, 3),columns = ['n_neighbors','p','mae'])\n",
    "k=0\n",
    "for i in grid_search.grid_scores_:\n",
    "    knn_results.loc[k]=[i[0]['n_neighbors'],i[0]['p'],-i[1]]\n",
    "    k = k+1 "
   ]
  },
  {
   "cell_type": "code",
   "execution_count": 25,
   "metadata": {
    "collapsed": false
   },
   "outputs": [
    {
     "name": "stderr",
     "output_type": "stream",
     "text": [
      "/home/pavel/anaconda/lib/python2.7/site-packages/matplotlib/figure.py:387: UserWarning: matplotlib is currently using a non-GUI backend, so cannot show the figure\n",
      "  \"matplotlib is currently using a non-GUI backend, \"\n"
     ]
    },
    {
     "data": {
      "image/png": "[encoded data removed]",
      "text/plain": [
       "<matplotlib.figure.Figure at 0x7f6c529f41d0>"
      ]
     },
     "metadata": {},
     "output_type": "display_data"
    }
   ],
   "source": [
    "fig = plt.figure()\n",
    "ax = fig.add_subplot(111)\n",
    "slc = knn_results[knn_results['p']==1]\n",
    "x_points = slc['n_neighbors']\n",
    "y_points = slc['mae']\n",
    "p = ax.plot(x_points, y_points, 'b')\n",
    "ax.set_xlabel('n_neighbors')\n",
    "ax.set_ylabel('median absoluteerror')\n",
    "ax.set_title('cv n_neighbors mae plot')\n",
    "fig.show()"
   ]
  },
  {
   "cell_type": "markdown",
   "metadata": {},
   "source": [
    "# Linear Regression"
   ]
  },
  {
   "cell_type": "code",
   "execution_count": 26,
   "metadata": {
    "collapsed": true
   },
   "outputs": [],
   "source": [
    "from sklearn import linear_model\n",
    "from sklearn.cross_validation import cross_val_score"
   ]
  },
  {
   "cell_type": "code",
   "execution_count": 27,
   "metadata": {
    "collapsed": false
   },
   "outputs": [
    {
     "data": {
      "text/plain": [
       "LinearRegression(copy_X=True, fit_intercept=True, n_jobs=1, normalize=False)"
      ]
     },
     "execution_count": 27,
     "metadata": {},
     "output_type": "execute_result"
    }
   ],
   "source": [
    "#rgr = linear_model.LinearRegression(fit_intercept=True)\n",
    "#scores = cross_val_score(estimator =rgr,X =X_train_scaled,y = y_train, n_jobs = 3,cv = cv, scoring='median_absolute_error')\n",
    "#print -np.mean(scores)/np.median(y)\n",
    "#print -np.mean(scores)\n",
    "rgr = linear_model.LinearRegression(fit_intercept=True)\n",
    "#scores = cross_val_score(estimator =rgr,X =X_train_scaled,y = y_train, n_jobs = 3,cv = cv, scoring='median_absolute_error')\n",
    "#print -np.mean(scores)/np.median(y)\n",
    "#print -np.mean(scores)\n",
    "rgr.fit(X =X_train_scaled,y = y_train)"
   ]
  },
  {
   "cell_type": "code",
   "execution_count": 28,
   "metadata": {
    "collapsed": false
   },
   "outputs": [
    {
     "name": "stdout",
     "output_type": "stream",
     "text": [
      "267385.264882\n"
     ]
    }
   ],
   "source": [
    "from sklearn.metrics import median_absolute_error\n",
    "print median_absolute_error(rgr.predict(X_test_scaled), y_test)"
   ]
  },
  {
   "cell_type": "markdown",
   "metadata": {},
   "source": [
    "# Ridge Regression"
   ]
  },
  {
   "cell_type": "code",
   "execution_count": 29,
   "metadata": {
    "collapsed": false
   },
   "outputs": [
    {
     "name": "stdout",
     "output_type": "stream",
     "text": [
      "Ridge(alpha=0.001, copy_X=True, fit_intercept=True, max_iter=None,\n",
      "   normalize=False, random_state=None, solver='auto', tol=0.001)\n",
      "266135.8\n",
      "0.305583032897\n"
     ]
    }
   ],
   "source": [
    "rgr = linear_model.Ridge()\n",
    "param_grid = {\n",
    "    \"alpha\": np.linspace(0.001,1,20)\n",
    "    }\n",
    "grid_search = GridSearchCV(rgr, param_grid=param_grid, n_jobs = 3,cv = cv, scoring='median_absolute_error')\n",
    "grid_search.fit(X_train_scaled, y_train)\n",
    "print grid_search.best_estimator_\n",
    "print -grid_search.best_score_\n",
    "print -grid_search.score(X_test_scaled,y_test)/np.median(y)"
   ]
  },
  {
   "cell_type": "markdown",
   "metadata": {},
   "source": [
    "# LOOCV Ridge Regression"
   ]
  },
  {
   "cell_type": "code",
   "execution_count": 30,
   "metadata": {
    "collapsed": false
   },
   "outputs": [],
   "source": [
    "rgr = linear_model.RidgeCV(alphas=np.linspace(0.001,1,20),scoring='median_absolute_error',store_cv_values= True)\n",
    "a =rgr.fit(X_train_scaled, y_train)"
   ]
  },
  {
   "cell_type": "code",
   "execution_count": 31,
   "metadata": {
    "collapsed": false
   },
   "outputs": [
    {
     "name": "stdout",
     "output_type": "stream",
     "text": [
      "0.474210526316\n",
      "0.305486185143\n"
     ]
    }
   ],
   "source": [
    "print a.alpha_\n",
    "print np.median(np.abs((rgr.predict(X_test_scaled)-y_test)))/np.median(y)"
   ]
  },
  {
   "cell_type": "markdown",
   "metadata": {},
   "source": [
    "# Lasso Regression"
   ]
  },
  {
   "cell_type": "code",
   "execution_count": 32,
   "metadata": {
    "collapsed": false
   },
   "outputs": [
    {
     "name": "stdout",
     "output_type": "stream",
     "text": [
      "Lasso(alpha=0.0001, copy_X=True, fit_intercept=True, max_iter=1000,\n",
      "   normalize=False, positive=False, precompute=False, random_state=None,\n",
      "   selection='cyclic', tol=0.0001, warm_start=False)\n",
      "266135.784596\n",
      "0.305583159545\n"
     ]
    }
   ],
   "source": [
    "rgr = linear_model.Lasso()\n",
    "param_grid = {\n",
    "    \"alpha\": np.linspace(0.0001,1,200)\n",
    "    }\n",
    "grid_search = GridSearchCV(rgr, param_grid=param_grid, n_jobs = 3,cv = cv, scoring='median_absolute_error')\n",
    "grid_search.fit(X_train_scaled, y_train)\n",
    "print grid_search.best_estimator_\n",
    "print -grid_search.best_score_\n",
    "print -grid_search.score(X_test_scaled,y_test)/np.median(y)"
   ]
  },
  {
   "cell_type": "markdown",
   "metadata": {},
   "source": [
    "# Support Vector Regression"
   ]
  },
  {
   "cell_type": "code",
   "execution_count": 33,
   "metadata": {
    "collapsed": true
   },
   "outputs": [],
   "source": [
    "from sklearn.svm import SVR"
   ]
  },
  {
   "cell_type": "code",
   "execution_count": 34,
   "metadata": {
    "collapsed": false
   },
   "outputs": [],
   "source": [
    "rgr = SVR()\n",
    "param_grid = {\n",
    "    \"kernel\": ['linear','rbf','poly','sigmoid'],\n",
    "    #\"C\" : [0.1,0.5,1,1.5]\n",
    "    #\"C\" : [1,1.5,2,3]\n",
    "    \"C\" : [3,4,5,10]\n",
    "    }"
   ]
  },
  {
   "cell_type": "code",
   "execution_count": 35,
   "metadata": {
    "collapsed": false
   },
   "outputs": [
    {
     "data": {
      "text/plain": [
       "GridSearchCV(cv=sklearn.cross_validation.KFold(n=7106, n_folds=10, shuffle=True, random_state=42),\n",
       "       error_score='raise',\n",
       "       estimator=SVR(C=1.0, cache_size=200, coef0=0.0, degree=3, epsilon=0.1, gamma='auto',\n",
       "  kernel='rbf', max_iter=-1, shrinking=True, tol=0.001, verbose=False),\n",
       "       fit_params={}, iid=True, n_jobs=3,\n",
       "       param_grid={'kernel': ['linear', 'rbf', 'poly', 'sigmoid'], 'C': [3, 4, 5, 10]},\n",
       "       pre_dispatch='2*n_jobs', refit=True,\n",
       "       scoring='median_absolute_error', verbose=0)"
      ]
     },
     "execution_count": 35,
     "metadata": {},
     "output_type": "execute_result"
    }
   ],
   "source": [
    "grid_search = GridSearchCV(rgr, param_grid=param_grid, n_jobs = 3,cv = cv, scoring='median_absolute_error')\n",
    "grid_search.fit(X_train_scaled, y_train)"
   ]
  },
  {
   "cell_type": "code",
   "execution_count": 36,
   "metadata": {
    "collapsed": false
   },
   "outputs": [
    {
     "name": "stdout",
     "output_type": "stream",
     "text": [
      "SVR(C=10, cache_size=200, coef0=0.0, degree=3, epsilon=0.1, gamma='auto',\n",
      "  kernel='linear', max_iter=-1, shrinking=True, tol=0.001, verbose=False)\n",
      "264333.060598\n",
      "0.292965895031\n"
     ]
    }
   ],
   "source": [
    "print grid_search.best_estimator_\n",
    "print -grid_search.best_score_\n",
    "print -grid_search.score(X_test_scaled,y_test)/np.median(y)"
   ]
  },
  {
   "cell_type": "markdown",
   "metadata": {},
   "source": [
    "# Random Forest Regressor"
   ]
  },
  {
   "cell_type": "code",
   "execution_count": 37,
   "metadata": {
    "collapsed": true
   },
   "outputs": [],
   "source": [
    "from sklearn.ensemble import RandomForestRegressor"
   ]
  },
  {
   "cell_type": "code",
   "execution_count": 38,
   "metadata": {
    "collapsed": false
   },
   "outputs": [],
   "source": [
    "rgr = RandomForestRegressor(random_state=42)\n",
    "param_grid = {\n",
    "    \"n_estimators\": [15,16,17,18,19],\n",
    "    \"max_depth\": [10,11,12,13,14],\n",
    "    \"min_samples_leaf\" : [1,5]  ,\n",
    "    \"max_features\": ['auto','sqrt']\n",
    "    }"
   ]
  },
  {
   "cell_type": "code",
   "execution_count": 39,
   "metadata": {
    "collapsed": false
   },
   "outputs": [
    {
     "data": {
      "text/plain": [
       "GridSearchCV(cv=sklearn.cross_validation.KFold(n=7106, n_folds=10, shuffle=True, random_state=42),\n",
       "       error_score='raise',\n",
       "       estimator=RandomForestRegressor(bootstrap=True, criterion='mse', max_depth=None,\n",
       "           max_features='auto', max_leaf_nodes=None, min_samples_leaf=1,\n",
       "           min_samples_split=2, min_weight_fraction_leaf=0.0,\n",
       "           n_estimators=10, n_jobs=1, oob_score=False, random_state=42,\n",
       "           verbose=0, warm_start=False),\n",
       "       fit_params={}, iid=True, n_jobs=3,\n",
       "       param_grid={'n_estimators': [15, 16, 17, 18, 19], 'max_features': ['auto', 'sqrt'], 'max_depth': [10, 11, 12, 13, 14], 'min_samples_leaf': [1, 5]},\n",
       "       pre_dispatch='2*n_jobs', refit=True,\n",
       "       scoring='median_absolute_error', verbose=0)"
      ]
     },
     "execution_count": 39,
     "metadata": {},
     "output_type": "execute_result"
    }
   ],
   "source": [
    "grid_search = GridSearchCV(rgr, param_grid=param_grid, n_jobs = 3,cv = cv, scoring='median_absolute_error')\n",
    "grid_search.fit(X_train_scaled, y_train)"
   ]
  },
  {
   "cell_type": "code",
   "execution_count": 40,
   "metadata": {
    "collapsed": false
   },
   "outputs": [
    {
     "name": "stdout",
     "output_type": "stream",
     "text": [
      "RandomForestRegressor(bootstrap=True, criterion='mse', max_depth=12,\n",
      "           max_features='sqrt', max_leaf_nodes=None, min_samples_leaf=1,\n",
      "           min_samples_split=2, min_weight_fraction_leaf=0.0,\n",
      "           n_estimators=18, n_jobs=1, oob_score=False, random_state=42,\n",
      "           verbose=0, warm_start=False)\n",
      "209450.803129\n",
      "0.238603417187\n"
     ]
    }
   ],
   "source": [
    "print grid_search.best_estimator_\n",
    "print -grid_search.best_score_\n",
    "print np.median(np.abs(grid_search.predict(X_test_scaled)-y_test))/np.median(y)"
   ]
  },
  {
   "cell_type": "code",
   "execution_count": 41,
   "metadata": {
    "collapsed": false
   },
   "outputs": [
    {
     "data": {
      "text/plain": [
       "array([ 0.05989763,  0.14799154,  0.25750876,  0.12488892,  0.10521356,\n",
       "        0.132232  ,  0.17226759])"
      ]
     },
     "execution_count": 41,
     "metadata": {},
     "output_type": "execute_result"
    }
   ],
   "source": [
    "grid_search.best_estimator_.feature_importances_"
   ]
  },
  {
   "cell_type": "markdown",
   "metadata": {},
   "source": [
    "# Extra Trees Regressor"
   ]
  },
  {
   "cell_type": "code",
   "execution_count": 42,
   "metadata": {
    "collapsed": true
   },
   "outputs": [],
   "source": [
    "from sklearn.ensemble import ExtraTreesRegressor\n"
   ]
  },
  {
   "cell_type": "code",
   "execution_count": 43,
   "metadata": {
    "collapsed": true
   },
   "outputs": [],
   "source": [
    "rgr = ExtraTreesRegressor(random_state=42)\n",
    "param_grid = {\n",
    "    \"n_estimators\": [13,14,15,16,17],\n",
    "    \"max_depth\": [14,15,16,17,18],\n",
    "    \"min_samples_leaf\" : [1,5]  ,\n",
    "    \"max_features\": ['auto','sqrt']\n",
    "    }"
   ]
  },
  {
   "cell_type": "code",
   "execution_count": 44,
   "metadata": {
    "collapsed": false
   },
   "outputs": [
    {
     "data": {
      "text/plain": [
       "GridSearchCV(cv=sklearn.cross_validation.KFold(n=7106, n_folds=10, shuffle=True, random_state=42),\n",
       "       error_score='raise',\n",
       "       estimator=ExtraTreesRegressor(bootstrap=False, criterion='mse', max_depth=None,\n",
       "          max_features='auto', max_leaf_nodes=None, min_samples_leaf=1,\n",
       "          min_samples_split=2, min_weight_fraction_leaf=0.0,\n",
       "          n_estimators=10, n_jobs=1, oob_score=False, random_state=42,\n",
       "          verbose=0, warm_start=False),\n",
       "       fit_params={}, iid=True, n_jobs=3,\n",
       "       param_grid={'n_estimators': [13, 14, 15, 16, 17], 'max_features': ['auto', 'sqrt'], 'max_depth': [14, 15, 16, 17, 18], 'min_samples_leaf': [1, 5]},\n",
       "       pre_dispatch='2*n_jobs', refit=True,\n",
       "       scoring='median_absolute_error', verbose=0)"
      ]
     },
     "execution_count": 44,
     "metadata": {},
     "output_type": "execute_result"
    }
   ],
   "source": [
    "grid_search = GridSearchCV(rgr, param_grid=param_grid, n_jobs = 3,cv = cv, scoring='median_absolute_error')\n",
    "grid_search.fit(X_train_scaled, y_train)"
   ]
  },
  {
   "cell_type": "code",
   "execution_count": 45,
   "metadata": {
    "collapsed": false
   },
   "outputs": [
    {
     "name": "stdout",
     "output_type": "stream",
     "text": [
      "ExtraTreesRegressor(bootstrap=False, criterion='mse', max_depth=17,\n",
      "          max_features='auto', max_leaf_nodes=None, min_samples_leaf=5,\n",
      "          min_samples_split=2, min_weight_fraction_leaf=0.0,\n",
      "          n_estimators=17, n_jobs=1, oob_score=False, random_state=42,\n",
      "          verbose=0, warm_start=False)\n",
      "214656.444265\n",
      "0.260119437989\n"
     ]
    }
   ],
   "source": [
    "print grid_search.best_estimator_\n",
    "print -grid_search.best_score_\n",
    "print np.median(np.abs(grid_search.predict(X_test_scaled)-y_test))/np.median(y)"
   ]
  },
  {
   "cell_type": "code",
   "execution_count": 46,
   "metadata": {
    "collapsed": false
   },
   "outputs": [
    {
     "data": {
      "text/plain": [
       "array([ 0.06363976,  0.14876615,  0.50321177,  0.02966783,  0.07822325,\n",
       "        0.03815451,  0.13833674])"
      ]
     },
     "execution_count": 46,
     "metadata": {},
     "output_type": "execute_result"
    }
   ],
   "source": [
    "grid_search.best_estimator_.feature_importances_"
   ]
  },
  {
   "cell_type": "markdown",
   "metadata": {},
   "source": [
    "# Gradient Boosting Regressor"
   ]
  },
  {
   "cell_type": "code",
   "execution_count": 47,
   "metadata": {
    "collapsed": true
   },
   "outputs": [],
   "source": [
    "from sklearn.ensemble import GradientBoostingRegressor"
   ]
  },
  {
   "cell_type": "code",
   "execution_count": 48,
   "metadata": {
    "collapsed": true
   },
   "outputs": [],
   "source": [
    "rgr = GradientBoostingRegressor(random_state=42)\n",
    "param_grid = {\n",
    "    \"n_estimators\": [15,20,25],\n",
    "    \"max_depth\": [5,10,15,20],\n",
    "    \"min_samples_leaf\" : [1,5]  ,\n",
    "    \"max_features\": ['auto','sqrt'],\n",
    "    \"loss\" : ['ls', 'lad', 'huber', 'quantile'],\n",
    "    \"learning_rate\" : [0.1,0.5,1]\n",
    "    }"
   ]
  },
  {
   "cell_type": "code",
   "execution_count": 49,
   "metadata": {
    "collapsed": false
   },
   "outputs": [
    {
     "data": {
      "text/plain": [
       "GridSearchCV(cv=sklearn.cross_validation.KFold(n=7106, n_folds=10, shuffle=True, random_state=42),\n",
       "       error_score='raise',\n",
       "       estimator=GradientBoostingRegressor(alpha=0.9, init=None, learning_rate=0.1, loss='ls',\n",
       "             max_depth=3, max_features=None, max_leaf_nodes=None,\n",
       "             min_samples_leaf=1, min_samples_split=2,\n",
       "             min_weight_fraction_leaf=0.0, n_estimators=100,\n",
       "             presort='auto', random_state=42, subsample=1.0, verbose=0,\n",
       "             warm_start=False),\n",
       "       fit_params={}, iid=True, n_jobs=3,\n",
       "       param_grid={'loss': ['ls', 'lad', 'huber', 'quantile'], 'learning_rate': [0.1, 0.5, 1], 'min_samples_leaf': [1, 5], 'n_estimators': [15, 20, 25], 'max_features': ['auto', 'sqrt'], 'max_depth': [5, 10, 15, 20]},\n",
       "       pre_dispatch='2*n_jobs', refit=True,\n",
       "       scoring='median_absolute_error', verbose=0)"
      ]
     },
     "execution_count": 49,
     "metadata": {},
     "output_type": "execute_result"
    }
   ],
   "source": [
    "grid_search = GridSearchCV(rgr, param_grid=param_grid, n_jobs = 3,cv = cv, scoring='median_absolute_error')\n",
    "grid_search.fit(X_train_scaled, y_train)"
   ]
  },
  {
   "cell_type": "code",
   "execution_count": 50,
   "metadata": {
    "collapsed": false
   },
   "outputs": [
    {
     "name": "stdout",
     "output_type": "stream",
     "text": [
      "GradientBoostingRegressor(alpha=0.9, init=None, learning_rate=0.1, loss='lad',\n",
      "             max_depth=10, max_features='sqrt', max_leaf_nodes=None,\n",
      "             min_samples_leaf=5, min_samples_split=2,\n",
      "             min_weight_fraction_leaf=0.0, n_estimators=25, presort='auto',\n",
      "             random_state=42, subsample=1.0, verbose=0, warm_start=False)\n",
      "195647.476615\n",
      "0.203810635289\n"
     ]
    }
   ],
   "source": [
    "print grid_search.best_estimator_\n",
    "print -grid_search.best_score_\n",
    "print np.median(np.abs(grid_search.predict(X_test_scaled)-y_test))/np.median(y)"
   ]
  },
  {
   "cell_type": "markdown",
   "metadata": {
    "collapsed": true
   },
   "source": [
    "# Multi-layer Preceptron Regressor with 2 ReLu"
   ]
  },
  {
   "cell_type": "code",
   "execution_count": 53,
   "metadata": {
    "collapsed": true
   },
   "outputs": [],
   "source": [
    "from sknn.platform import cpu64, threads3"
   ]
  },
  {
   "cell_type": "code",
   "execution_count": 54,
   "metadata": {
    "collapsed": true
   },
   "outputs": [],
   "source": [
    "import random\n",
    "random.seed(42)"
   ]
  },
  {
   "cell_type": "code",
   "execution_count": 55,
   "metadata": {
    "collapsed": true
   },
   "outputs": [],
   "source": [
    "import sys\n",
    "import logging\n",
    "\n",
    "logging.basicConfig(\n",
    "            format=\"%(message)s\",\n",
    "            level=logging.DEBUG,\n",
    "            stream=sys.stdout)"
   ]
  },
  {
   "cell_type": "code",
   "execution_count": 56,
   "metadata": {
    "collapsed": false
   },
   "outputs": [],
   "source": [
    "def rmse(x,y):\n",
    "    return m.sqrt(np.mean((x-y)**2))\n",
    "def my_callback(**other):\n",
    "    a = np.median(np.abs(np.squeeze(nn.predict(X_train_scaled))-y_train))\n",
    "    #b = np.median(np.abs(np.squeeze(nn.predict(X_train_scaled))-y_train))/np.median(y)\n",
    "    print \"MAE - \"+str(a)\n",
    "    #print \"NRMSE percent - \" + str(round(rmse(np.squeeze(nn.predict(X_train_scaled)),y_train))/(np.max(y)-np.min(y))"
   ]
  },
  {
   "cell_type": "code",
   "execution_count": 57,
   "metadata": {
    "collapsed": false
   },
   "outputs": [],
   "source": [
    "from sknn.mlp import Regressor, Layer"
   ]
  },
  {
   "cell_type": "code",
   "execution_count": 58,
   "metadata": {
    "collapsed": false
   },
   "outputs": [],
   "source": [
    "nn = Regressor(\n",
    "    layers=[\n",
    "        Layer(\"Rectifier\", units=7),\n",
    "        Layer(\"Rectifier\", units=5),\n",
    "        Layer(\"Linear\")],\n",
    "    #learning_rate=0.00000000007, 20\n",
    "    learning_rate=0.000000000007,\n",
    "    n_iter=20, verbose = True, random_state = 42, callback={'on_epoch_start': my_callback}, n_stable=15)"
   ]
  },
  {
   "cell_type": "code",
   "execution_count": 59,
   "metadata": {
    "collapsed": false
   },
   "outputs": [
    {
     "name": "stdout",
     "output_type": "stream",
     "text": [
      "MAE - 875000.255119\n",
      "MAE - 875000.044489\n",
      "MAE - 874999.849646\n",
      "MAE - 874999.698201\n",
      "MAE - 874999.532902\n",
      "MAE - 874999.362133\n",
      "MAE - 874999.186788\n",
      "MAE - 874998.986059\n",
      "MAE - 874998.736896\n",
      "MAE - 874998.304597\n",
      "MAE - 874997.530432\n",
      "MAE - 874994.812952\n",
      "MAE - 874988.008446\n",
      "MAE - 870776.914324\n",
      "MAE - 291632.940756\n",
      "MAE - 243802.854378\n",
      "MAE - 222217.807845\n",
      "MAE - 233822.993827\n",
      "MAE - 214380.108131\n",
      "MAE - 224441.792193\n"
     ]
    },
    {
     "data": {
      "text/plain": [
       "Regressor(batch_size=1,\n",
       "     callback={'on_epoch_start': <function my_callback at 0x7f6c361a9c80>},\n",
       "     debug=False, dropout_rate=None, f_stable=0.001,\n",
       "     hidden0=<sknn.nn.Layer `Rectifier`: units=7, name=u'hidden0', frozen=False>,\n",
       "     hidden1=<sknn.nn.Layer `Rectifier`: units=5, name=u'hidden1', frozen=False>,\n",
       "     layers=[<sknn.nn.Layer `Rectifier`: units=7, name=u'hidden0', frozen=False>, <sknn.nn.Layer `Rectifier`: units=5, name=u'hidden1', frozen=False>, <sknn.nn.Layer `Linear`: units=1, name=u'output', frozen=False>],\n",
       "     learning_momentum=0.9, learning_rate=7e-12, learning_rule=u'sgd',\n",
       "     loss_type=None, n_iter=20, n_stable=15,\n",
       "     output=<sknn.nn.Layer `Linear`: units=1, name=u'output', frozen=False>,\n",
       "     random_state=42, regularize=None, valid_set=None, valid_size=0.0,\n",
       "     verbose=True, warning=None, weight_decay=None, weights=None)"
      ]
     },
     "execution_count": 59,
     "metadata": {},
     "output_type": "execute_result"
    }
   ],
   "source": [
    "nn.fit(X_train_scaled, y_train)"
   ]
  },
  {
   "cell_type": "code",
   "execution_count": 60,
   "metadata": {
    "collapsed": false
   },
   "outputs": [
    {
     "name": "stdout",
     "output_type": "stream",
     "text": [
      "217067.234238\n",
      "0.248076839129\n"
     ]
    }
   ],
   "source": [
    "print np.median(np.abs(np.squeeze(nn.predict(X_test_scaled))-y_test))\n",
    "print np.median(np.abs(np.squeeze(nn.predict(X_test_scaled))-y_test))/np.median(y)"
   ]
  },
  {
   "cell_type": "markdown",
   "metadata": {
    "collapsed": false
   },
   "source": [
    "# MLP 1 Relu"
   ]
  },
  {
   "cell_type": "code",
   "execution_count": 61,
   "metadata": {
    "collapsed": false
   },
   "outputs": [],
   "source": [
    "from sknn.mlp import Regressor, Layer"
   ]
  },
  {
   "cell_type": "code",
   "execution_count": 62,
   "metadata": {
    "collapsed": false
   },
   "outputs": [],
   "source": [
    "nn = Regressor(\n",
    "    layers=[\n",
    "        Layer(\"Rectifier\", units=7),\n",
    "        Layer(\"Linear\")],\n",
    "    #learning_rate=0.00000000005, 25\n",
    "    learning_rate=0.00000000020,\n",
    "    n_iter=20, verbose = True, random_state = 42, callback={'on_epoch_start': my_callback}, n_stable=15)"
   ]
  },
  {
   "cell_type": "code",
   "execution_count": 63,
   "metadata": {
    "collapsed": false
   },
   "outputs": [
    {
     "name": "stdout",
     "output_type": "stream",
     "text": [
      "MAE - 874999.546817\n",
      "MAE - 874954.471612\n",
      "MAE - 606497.199748\n",
      "MAE - 276995.084941\n",
      "MAE - 262577.927404\n",
      "MAE - 284384.902586\n",
      "MAE - 244912.425466\n",
      "MAE - 245684.123455\n",
      "MAE - 247350.931117\n",
      "MAE - 257810.174397\n",
      "MAE - 230586.748848\n",
      "MAE - 232002.993985\n",
      "MAE - 230117.115231\n",
      "MAE - 229099.199122\n",
      "MAE - 227423.071432\n",
      "MAE - 226153.386044\n",
      "MAE - 221567.448479\n",
      "MAE - 229285.802675\n",
      "MAE - 223046.081635\n",
      "MAE - 222519.56791\n"
     ]
    },
    {
     "data": {
      "text/plain": [
       "Regressor(batch_size=1,\n",
       "     callback={'on_epoch_start': <function my_callback at 0x7f6c361a9c80>},\n",
       "     debug=False, dropout_rate=None, f_stable=0.001,\n",
       "     hidden0=<sknn.nn.Layer `Rectifier`: units=7, name=u'hidden0', frozen=False>,\n",
       "     layers=[<sknn.nn.Layer `Rectifier`: units=7, name=u'hidden0', frozen=False>, <sknn.nn.Layer `Linear`: units=1, name=u'output', frozen=False>],\n",
       "     learning_momentum=0.9, learning_rate=2e-10, learning_rule=u'sgd',\n",
       "     loss_type=None, n_iter=20, n_stable=15,\n",
       "     output=<sknn.nn.Layer `Linear`: units=1, name=u'output', frozen=False>,\n",
       "     random_state=42, regularize=None, valid_set=None, valid_size=0.0,\n",
       "     verbose=True, warning=None, weight_decay=None, weights=None)"
      ]
     },
     "execution_count": 63,
     "metadata": {},
     "output_type": "execute_result"
    }
   ],
   "source": [
    "nn.fit(X_train_scaled, y_train)"
   ]
  },
  {
   "cell_type": "code",
   "execution_count": 64,
   "metadata": {
    "collapsed": false
   },
   "outputs": [
    {
     "name": "stdout",
     "output_type": "stream",
     "text": [
      "221639.593381\n",
      "0.253302392436\n"
     ]
    }
   ],
   "source": [
    "print np.median(np.abs(np.squeeze(nn.predict(X_test_scaled))-y_test))\n",
    "print np.median(np.abs(np.squeeze(nn.predict(X_test_scaled))-y_test))/np.median(y)"
   ]
  },
  {
   "cell_type": "markdown",
   "metadata": {
    "collapsed": true
   },
   "source": [
    "# Simple Linear Perceptron"
   ]
  },
  {
   "cell_type": "code",
   "execution_count": 65,
   "metadata": {
    "collapsed": true
   },
   "outputs": [],
   "source": [
    "from sknn.mlp import Regressor, Layer"
   ]
  },
  {
   "cell_type": "code",
   "execution_count": 66,
   "metadata": {
    "collapsed": true
   },
   "outputs": [],
   "source": [
    "nn = Regressor(\n",
    "    layers=[\n",
    "        Layer(\"Linear\")],\n",
    "    #learning_rate=0.00000000005, 25\n",
    "    learning_rate=0.000020,\n",
    "    n_iter=12, verbose = True, random_state = 42, callback={'on_epoch_start': my_callback}, n_stable=15)"
   ]
  },
  {
   "cell_type": "code",
   "execution_count": 67,
   "metadata": {
    "collapsed": false
   },
   "outputs": [
    {
     "name": "stdout",
     "output_type": "stream",
     "text": [
      "MAE - 875001.472736\n",
      "MAE - 679828.066213\n",
      "MAE - 533121.392759\n",
      "MAE - 426017.11607\n",
      "MAE - 356625.039685\n",
      "MAE - 314434.771399\n",
      "MAE - 289582.436816\n",
      "MAE - 274048.138935\n",
      "MAE - 263844.89868\n",
      "MAE - 263139.653143\n",
      "MAE - 261539.579754\n",
      "MAE - 261556.707643\n"
     ]
    },
    {
     "data": {
      "text/plain": [
       "Regressor(batch_size=1,\n",
       "     callback={'on_epoch_start': <function my_callback at 0x7f6c361a9c80>},\n",
       "     debug=False, dropout_rate=None, f_stable=0.001,\n",
       "     layers=[<sknn.nn.Layer `Linear`: units=1, name=u'output', frozen=False>],\n",
       "     learning_momentum=0.9, learning_rate=2e-05, learning_rule=u'sgd',\n",
       "     loss_type=None, n_iter=12, n_stable=15,\n",
       "     output=<sknn.nn.Layer `Linear`: units=1, name=u'output', frozen=False>,\n",
       "     random_state=42, regularize=None, valid_set=None, valid_size=0.0,\n",
       "     verbose=True, warning=None, weight_decay=None, weights=None)"
      ]
     },
     "execution_count": 67,
     "metadata": {},
     "output_type": "execute_result"
    }
   ],
   "source": [
    "nn.fit(X_train_scaled, y_train)"
   ]
  },
  {
   "cell_type": "code",
   "execution_count": 68,
   "metadata": {
    "collapsed": false
   },
   "outputs": [
    {
     "name": "stdout",
     "output_type": "stream",
     "text": [
      "262094.734958\n",
      "0.299536839952\n"
     ]
    }
   ],
   "source": [
    "print np.median(np.abs(np.squeeze(nn.predict(X_test_scaled))-y_test))\n",
    "print np.median(np.abs(np.squeeze(nn.predict(X_test_scaled))-y_test))/np.median(y)"
   ]
  },
  {
   "cell_type": "code",
   "execution_count": null,
   "metadata": {
    "collapsed": true
   },
   "outputs": [],
   "source": []
  },
  {
   "cell_type": "code",
   "execution_count": null,
   "metadata": {
    "collapsed": true
   },
   "outputs": [],
   "source": []
  }
 ],
 "metadata": {
  "kernelspec": {
   "display_name": "Python 2",
   "language": "python",
   "name": "python2"
  },
  "language_info": {
   "codemirror_mode": {
    "name": "ipython",
    "version": 2
   },
   "file_extension": ".py",
   "mimetype": "text/x-python",
   "name": "python",
   "nbconvert_exporter": "python",
   "pygments_lexer": "ipython2",
   "version": "2.7.11"
  }
 },
 "nbformat": 4,
 "nbformat_minor": 0
}
