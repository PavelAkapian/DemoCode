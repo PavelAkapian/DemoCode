{
 "cells": [
  {
   "cell_type": "markdown",
   "metadata": {},
   "source": [
    "# Имитационное и статистическое моделирование\n",
    "## Лабораторная № 2\n",
    "## Павел Акопян, 2 группа"
   ]
  },
  {
   "cell_type": "markdown",
   "metadata": {},
   "source": [
    "Содержание:\n",
    "1. Реализация теста MonoBit, Linear Complexity, Matrix Rank, Serial из группы тестов NIST для проверки качества генерируемой псевдослучайной последовательности (из 0 и 1).\n",
    "2. Реализация регистра сдвига с линейной обратной связью и самосжиющегося генератора.\n",
    "3. Проверка качества последовательностей.\n",
    "4. Реализация алгоритма генерации и шифрования A5/1.\n",
    "5. Применение A5/1 для шифрования текстовых файлов."
   ]
  },
  {
   "cell_type": "markdown",
   "metadata": {},
   "source": [
    "Загрузка необходимых пакетов"
   ]
  },
  {
   "cell_type": "code",
   "execution_count": 6,
   "metadata": {
    "collapsed": false
   },
   "outputs": [],
   "source": [
    "import scipy.special as spc\n",
    "import scipy.stats as sst\n",
    "import pandas as pd\n",
    "import numpy\n",
    "import math\n",
    "import copy\n",
    "import os"
   ]
  },
  {
   "cell_type": "markdown",
   "metadata": {},
   "source": [
    "Загрузка библиотеки, позволяющей удобно работать с битовыми массивами"
   ]
  },
  {
   "cell_type": "code",
   "execution_count": 7,
   "metadata": {
    "collapsed": true
   },
   "outputs": [],
   "source": [
    "from bitstring import BitArray, Bits"
   ]
  },
  {
   "cell_type": "markdown",
   "metadata": {},
   "source": [
    "Настройка формата вывода"
   ]
  },
  {
   "cell_type": "code",
   "execution_count": 8,
   "metadata": {
    "collapsed": true
   },
   "outputs": [],
   "source": [
    "pd.set_option( 'display.precision', 3)\n",
    "pd.set_option('chop_threshold', .00001)\n",
    "numpy.set_printoptions(precision = 4, suppress=True)\n",
    "pd.set_eng_float_format(accuracy=3,use_eng_prefix=False)\n",
    "pd.set_option('display.float_format', lambda x: '%.3f' % x)"
   ]
  },
  {
   "cell_type": "markdown",
   "metadata": {},
   "source": [
    "# Monobit"
   ]
  },
  {
   "cell_type": "code",
   "execution_count": 9,
   "metadata": {
    "collapsed": false
   },
   "outputs": [],
   "source": [
    "def monobit(bin_data):\n",
    "    count = 0\n",
    "    for char in bin_data:\n",
    "        if char == 0:\n",
    "            count -= 1\n",
    "        else:\n",
    "            count += 1\n",
    "    sobs = count / math.sqrt(len(bin_data))\n",
    "    p_val = spc.erfc(math.fabs(sobs) / math.sqrt(2))\n",
    "    return p_val"
   ]
  },
  {
   "cell_type": "markdown",
   "metadata": {},
   "source": [
    "# Rank Test"
   ]
  },
  {
   "cell_type": "code",
   "execution_count": 5,
   "metadata": {
    "collapsed": true
   },
   "outputs": [],
   "source": [
    "class BinaryMatrix:\n",
    "    def __init__(self, matrix, rows, cols):\n",
    "        self.M = rows\n",
    "        self.Q = cols\n",
    "        self.A = matrix\n",
    "        self.m = min(rows, cols)\n",
    "\n",
    "    def compute_rank(self, verbose=False):\n",
    "        if verbose:\n",
    "            print(\"Original Matrix\\n\", self.A)\n",
    "\n",
    "        i = 0\n",
    "        while i < self.m - 1:\n",
    "            if self.A[i][i] == 1:\n",
    "                self.perform_row_operations(i, True)\n",
    "            else:\n",
    "                found = self.find_unit_element_swap(i, True)\n",
    "                if found == 1:\n",
    "                    self.perform_row_operations(i, True)\n",
    "            i += 1\n",
    "\n",
    "        if verbose:\n",
    "            print(\"Intermediate Matrix\\n\", self.A)\n",
    "\n",
    "        i = self.m - 1\n",
    "        while i > 0:\n",
    "            if self.A[i][i] == 1:\n",
    "                self.perform_row_operations(i, False)\n",
    "            else:\n",
    "                if self.find_unit_element_swap(i, False) == 1:\n",
    "                    self.perform_row_operations(i, False)\n",
    "            i -= 1\n",
    "\n",
    "        if verbose:\n",
    "            print(\"Final Matrix\\n\", self.A)\n",
    "\n",
    "        return self.determine_rank()\n",
    "\n",
    "    def perform_row_operations(self, i, forward_elimination):\n",
    "        if forward_elimination:\n",
    "            j = i + 1\n",
    "            while j < self.M:\n",
    "                if self.A[j][i] == 1:\n",
    "                    self.A[j, :] = (self.A[j, :] + self.A[i, :]) % 2\n",
    "                j += 1\n",
    "        else:\n",
    "            j = i - 1\n",
    "            while j >= 0:\n",
    "                if self.A[j][i] == 1:\n",
    "                    self.A[j, :] = (self.A[j, :] + self.A[i, :]) % 2\n",
    "                j -= 1\n",
    "\n",
    "    def find_unit_element_swap(self, i, forward_elimination):\n",
    "        row_op = 0\n",
    "        if forward_elimination:\n",
    "            index = i + 1\n",
    "            while index < self.M and self.A[index][i] == 0:\n",
    "                index += 1\n",
    "            if index < self.M:\n",
    "                row_op = self.swap_rows(i, index)\n",
    "        else:\n",
    "            index = i - 1\n",
    "            while index >= 0 and self.A[index][i] == 0:\n",
    "                index -= 1\n",
    "            if index >= 0:\n",
    "                row_op = self.swap_rows(i, index)\n",
    "        return row_op\n",
    "\n",
    "    def swap_rows(self, i, ix):\n",
    "        temp = copy.copy(self.A[i, :])\n",
    "        self.A[i, :] = self.A[ix, :]\n",
    "        self.A[ix, :] = temp\n",
    "        return 1\n",
    "\n",
    "    def determine_rank(self):\n",
    "        rank = self.m\n",
    "        i = 0\n",
    "        while i < self.M:\n",
    "            all_zeros = 1\n",
    "            for j in range(self.Q):\n",
    "                if self.A[i][j] == 1:\n",
    "                    all_zeros = 0\n",
    "            if all_zeros == 1:\n",
    "                rank -= 1\n",
    "            i += 1\n",
    "        return rank"
   ]
  },
  {
   "cell_type": "code",
   "execution_count": 36,
   "metadata": {
    "collapsed": true
   },
   "outputs": [],
   "source": [
    "def matrix_rank( bin_data, q=32):\n",
    "    shape = (q, q)\n",
    "    n = len(bin_data)\n",
    "    block_size = int(q * q)\n",
    "    num_m = int(math.floor(n / (q * q)))\n",
    "    block_start, block_end = 0, block_size\n",
    "    # print(q, n, num_m, block_size)\n",
    "\n",
    "    if num_m > 0:\n",
    "        max_ranks = [0, 0, 0]\n",
    "        for im in range(num_m):\n",
    "            block_data = bin_data[block_start:block_end]\n",
    "            block = numpy.zeros(len(block_data))\n",
    "            for i in range(len(block_data)):\n",
    "                if block_data[i] == 1:\n",
    "                    block[i] = 1.0\n",
    "            m = block.reshape(shape)\n",
    "            ranker = BinaryMatrix(m, q, q)\n",
    "            rank = ranker.compute_rank()\n",
    "            # print(rank)\n",
    "            if rank == q:\n",
    "                max_ranks[0] += 1\n",
    "            elif rank == (q - 1):\n",
    "                max_ranks[1] += 1\n",
    "            else:\n",
    "                max_ranks[2] += 1\n",
    "            # Update index trackers\n",
    "            block_start += block_size\n",
    "            block_end += block_size\n",
    "\n",
    "        piks = [1.0, 0.0, 0.0]\n",
    "        for x in range(1, 50):\n",
    "            piks[0] *= 1 - (1.0 / (2 ** x))\n",
    "        piks[1] = 2 * piks[0]\n",
    "        piks[2] = 1 - piks[0] - piks[1]\n",
    "\n",
    "        chi = 0.0\n",
    "        for i in range(len(piks)):\n",
    "            chi += pow((max_ranks[i] - piks[i] * num_m), 2.0) / (piks[i] * num_m)\n",
    "        p_val = math.exp(-chi / 2)\n",
    "        return p_val\n",
    "    else:\n",
    "        return -1.0"
   ]
  },
  {
   "cell_type": "code",
   "execution_count": 37,
   "metadata": {
    "collapsed": false
   },
   "outputs": [
    {
     "name": "stdout",
     "output_type": "stream",
     "text": [
      "1024\n"
     ]
    },
    {
     "data": {
      "text/plain": [
       "0.23335899811528313"
      ]
     },
     "execution_count": 37,
     "metadata": {},
     "output_type": "execute_result"
    }
   ],
   "source": [
    "matrix_rank(ssh)"
   ]
  },
  {
   "cell_type": "code",
   "execution_count": 38,
   "metadata": {
    "collapsed": false
   },
   "outputs": [
    {
     "name": "stdout",
     "output_type": "stream",
     "text": [
      "1024\n"
     ]
    },
    {
     "data": {
      "text/plain": [
       "0.5320686217466569"
      ]
     },
     "execution_count": 38,
     "metadata": {},
     "output_type": "execute_result"
    }
   ],
   "source": [
    "matrix_rank(e[0:100000])"
   ]
  },
  {
   "cell_type": "markdown",
   "metadata": {},
   "source": [
    "# Linear Complexity Test"
   ]
  },
  {
   "cell_type": "code",
   "execution_count": 85,
   "metadata": {
    "collapsed": false
   },
   "outputs": [],
   "source": [
    "def linear_complexity(bin_data, block_size=500):\n",
    "    dof = 6\n",
    "    piks = [0.01047, 0.03125, 0.125, 0.5, 0.25, 0.0625, 0.020833]\n",
    "\n",
    "    t2 = (block_size / 3.0 + 2.0 / 9) / 2 ** block_size\n",
    "    mean = 0.5 * block_size + (1.0 / 36) * (9 + (-1) ** (block_size + 1)) - t2\n",
    "\n",
    "    num_blocks = int(len(bin_data) / block_size)\n",
    "    print num_blocks\n",
    "    if num_blocks > 1:\n",
    "        block_end = block_size\n",
    "        block_start = 0\n",
    "        blocks = []\n",
    "        for i in range(num_blocks):\n",
    "            blocks.append(bin_data[block_start:block_end])\n",
    "            block_start += block_size\n",
    "            block_end += block_size\n",
    "\n",
    "        complexities = []\n",
    "        for block in blocks:\n",
    "            complexities.append(berlekamp_massey_algorithm(block))\n",
    "\n",
    "        t = ([(((-1) ** block_size) * (chunk - mean) + 2.0 / 9) for chunk in complexities])\n",
    "        #t = ([-1.0 * (((-1) ** block_size) * (chunk - mean) + 2.0 / 9) for chunk in complexities])\n",
    "        #vg = numpy.histogram(t, bins=[-9999999999, -2.50000000001,\n",
    "        #                              -1.50000000001, -0.50000000001, \n",
    "        #                              0.50000000001, 1.50000000001, \n",
    "        #                              2.50000000001, 99999999999])[0][::-1]\n",
    "        vg = numpy.histogram(t, bins=[-9999999999, -2.50000000001,\n",
    "                                      -1.50000000001, -0.50000000001, \n",
    "                                      0.50000000001, 1.50000000001, \n",
    "                                      2.50000000001, 99999999999])[0]\n",
    "        \n",
    "        im = ([((float(vg[ii]) - float(num_blocks * piks[ii])) ** 2) / (num_blocks * piks[ii]) for ii in range(7)])\n",
    "        print vg\n",
    "        chi_squared = 0.0\n",
    "        for i in range(len(piks)):\n",
    "            chi_squared += im[i]\n",
    "        print chi_squared\n",
    "        p_val = spc.gammaincc(dof / 2.0, chi_squared / 2.0)\n",
    "        return p_val\n",
    "    else:\n",
    "        return -1.0\n",
    "\n",
    "def berlekamp_massey_algorithm( block_data):\n",
    "    n = len(block_data)\n",
    "    c = numpy.zeros(n)\n",
    "    b = numpy.zeros(n)\n",
    "    c[0], b[0] = 1, 1\n",
    "    l, m, i = 0, -1, 0\n",
    "    int_data = [int(el) for el in block_data]\n",
    "    while i < n:\n",
    "        v = int_data[(i - l):i]\n",
    "        v = v[::-1]\n",
    "        cc = c[1:l + 1]\n",
    "        d = (int_data[i] + numpy.dot(v, cc)) % 2\n",
    "        if d == 1:\n",
    "            temp = copy.copy(c)\n",
    "            p = numpy.zeros(n)\n",
    "            for j in range(0, l):\n",
    "                if b[j] == 1:\n",
    "                    p[j + i - m] = 1\n",
    "            c = (c + p) % 2\n",
    "            if l <= 0.5 * i:\n",
    "                l = i + 1 - l\n",
    "                m = i\n",
    "                b = temp\n",
    "        i += 1\n",
    "    return l"
   ]
  },
  {
   "cell_type": "code",
   "execution_count": 86,
   "metadata": {
    "collapsed": false,
    "scrolled": true
   },
   "outputs": [
    {
     "name": "stdout",
     "output_type": "stream",
     "text": [
      "2000\n",
      "[  21   52  250 1006  492  135   44]\n",
      "2.85891535567\n"
     ]
    },
    {
     "data": {
      "text/plain": [
       "0.82633477040383041"
      ]
     },
     "execution_count": 86,
     "metadata": {},
     "output_type": "execute_result"
    }
   ],
   "source": [
    "linear_complexity(e[0:1000000])"
   ]
  },
  {
   "cell_type": "code",
   "execution_count": 87,
   "metadata": {
    "collapsed": false
   },
   "outputs": [
    {
     "name": "stdout",
     "output_type": "stream",
     "text": [
      "1999\n",
      "[  21   52  250 1005  492  135   44]\n",
      "2.84873374904\n"
     ]
    },
    {
     "data": {
      "text/plain": [
       "0.82757885627625838"
      ]
     },
     "execution_count": 87,
     "metadata": {},
     "output_type": "execute_result"
    }
   ],
   "source": [
    "linear_complexity(e[0:999999])"
   ]
  },
  {
   "cell_type": "markdown",
   "metadata": {},
   "source": [
    "# Serial Test"
   ]
  },
  {
   "cell_type": "code",
   "execution_count": 13,
   "metadata": {
    "collapsed": false
   },
   "outputs": [],
   "source": [
    "def serial(bin_data, pattern_length=16, method=\"first\"):\n",
    "    n = len(bin_data)\n",
    "    # Add first m-1 bits to the end\n",
    "    bin_data += bin_data[:pattern_length-1]\n",
    "\n",
    "    # Get max length one patterns for m, m-1, m-2\n",
    "    max_pattern = ''\n",
    "    for i in range(pattern_length):\n",
    "        max_pattern += '1'\n",
    "\n",
    "    # Keep track of each pattern's frequency (how often it appears)\n",
    "    vobs_one = numpy.zeros(int(max_pattern[0:pattern_length], 2) + 1)\n",
    "    vobs_two = numpy.zeros(int(max_pattern[0:pattern_length-1], 2) + 1)\n",
    "    vobs_thr = numpy.zeros(int(max_pattern[0:pattern_length-2], 2) + 1)\n",
    "\n",
    "    for i in range(n):\n",
    "        # Work out what pattern is observed\n",
    "        #print bin_data[i:i + pattern_length].bin\n",
    "        vobs_one[int(bin_data[i:i + pattern_length].bin, 2)] += 1\n",
    "        vobs_two[int(bin_data[i:i + pattern_length-1].bin, 2)] += 1\n",
    "        vobs_thr[int(bin_data[i:i + pattern_length-2].bin, 2)] += 1\n",
    "\n",
    "    vobs = [vobs_one, vobs_two, vobs_thr]\n",
    "    #print vobs\n",
    "    sums = numpy.zeros(3)\n",
    "    for i in range(3):\n",
    "        for j in range(len(vobs[i])):\n",
    "            sums[i] += pow(vobs[i][j], 2)\n",
    "        sums[i] = (sums[i] * pow(2, pattern_length-i)/(n)) - (n)\n",
    "\n",
    "    # Calculate the test statistics and p values\n",
    "    del1 = sums[0] - sums[1]\n",
    "    del2 = sums[0] - 2.0 * sums[1] + sums[2]\n",
    "    #print del1/2.0, del2/2.0\n",
    "    #print pow(2, pattern_length-1)/2.0,pow(2, pattern_length-2)/2.0\n",
    "    p_val_one = spc.gammaincc(pow(2.0, pattern_length-1)/2.0,del1/2.0)\n",
    "    p_val_two = spc.gammaincc(pow(2.0, pattern_length-2)/2.0, del2/2.0)\n",
    "    #print p_val_one, p_val_two\n",
    "    # For checking the outputs\n",
    "    if method == \"first\":\n",
    "        return p_val_one\n",
    "    else:\n",
    "        # I am not sure if this is correct, but it makes sense to me.\n",
    "        return min(p_val_one, p_val_two)"
   ]
  },
  {
   "cell_type": "code",
   "execution_count": 14,
   "metadata": {
    "collapsed": false
   },
   "outputs": [
    {
     "data": {
      "text/plain": [
       "0.76389203335709599"
      ]
     },
     "execution_count": 14,
     "metadata": {},
     "output_type": "execute_result"
    }
   ],
   "source": [
    "serial(e[0:1000000],16)"
   ]
  },
  {
   "cell_type": "code",
   "execution_count": 90,
   "metadata": {
    "collapsed": false,
    "scrolled": true
   },
   "outputs": [
    {
     "name": "stdout",
     "output_type": "stream",
     "text": [
      "001\n",
      "011\n",
      "110\n",
      "101\n",
      "011\n",
      "111\n",
      "110\n",
      "101\n",
      "010\n",
      "100\n",
      "[array([ 0.,  1.,  1.,  2.,  1.,  2.,  2.,  1.]), array([ 1.,  3.,  3.,  3.]), array([ 4.,  6.])]\n",
      "0.8 0.4\n",
      "2.0 1.0\n",
      "0.808792135411 0.670320046036\n"
     ]
    },
    {
     "data": {
      "text/plain": [
       "0.80879213541099859"
      ]
     },
     "execution_count": 90,
     "metadata": {},
     "output_type": "execute_result"
    }
   ],
   "source": [
    "serial(BitArray('0b0011011101'),3)"
   ]
  },
  {
   "cell_type": "code",
   "execution_count": 15,
   "metadata": {
    "collapsed": false,
    "scrolled": true
   },
   "outputs": [
    {
     "name": "stdout",
     "output_type": "stream",
     "text": [
      "0.808792135411\n",
      "0.670320046036\n"
     ]
    }
   ],
   "source": [
    "print spc.gammaincc(2.0,0.8)\n",
    "print spc.gammaincc(1.0,0.4)"
   ]
  },
  {
   "cell_type": "code",
   "execution_count": null,
   "metadata": {
    "collapsed": true
   },
   "outputs": [],
   "source": [
    "spc."
   ]
  },
  {
   "cell_type": "markdown",
   "metadata": {},
   "source": [
    "# LFSR"
   ]
  },
  {
   "cell_type": "code",
   "execution_count": 20,
   "metadata": {
    "collapsed": false
   },
   "outputs": [
    {
     "data": {
      "text/plain": [
       "'01111111101110000100000111100100000111010000111111'"
      ]
     },
     "execution_count": 20,
     "metadata": {},
     "output_type": "execute_result"
    }
   ],
   "source": [
    "LFSR(50).bin"
   ]
  },
  {
   "cell_type": "code",
   "execution_count": 16,
   "metadata": {
    "collapsed": true
   },
   "outputs": [],
   "source": [
    "def LFSR(n):\n",
    "    reg = 0x4F043BFD\n",
    "    s = BitArray()\n",
    "    for i in xrange(n):\n",
    "        reg = ((((reg>>31)^(reg>>30)^(reg>>29)^(reg>>27)^(reg>>25)^(reg)) & 1) <<31) | (reg>>1)\n",
    "        s.append('0b'+str(reg& 1)) \n",
    "    reg = 1\n",
    "    return s"
   ]
  },
  {
   "cell_type": "code",
   "execution_count": 10,
   "metadata": {
    "collapsed": true
   },
   "outputs": [],
   "source": [
    "def SSH(n):\n",
    "    reg = 0xFFFFFFFF\n",
    "    s = BitArray()\n",
    "    i = 0\n",
    "    while True:\n",
    "        reg = ((((reg>>31)^(reg>>30)^(reg>>29)^(reg>>27)^(reg>>25)^(reg)) & 1) <<31) | (reg>>1)\n",
    "        a = reg& 1\n",
    "        reg = ((((reg>>31)^(reg>>30)^(reg>>29)^(reg>>27)^(reg>>25)^(reg)) & 1) <<31) | (reg>>1)\n",
    "        b = reg& 1\n",
    "        if a:\n",
    "            if b:\n",
    "                s.append('0b1') \n",
    "            else:\n",
    "                s.append('0b0')    \n",
    "            i = i+1\n",
    "        if i==n:\n",
    "            break;\n",
    "        \n",
    "    reg = 0xFFFFFFFF\n",
    "    return s"
   ]
  },
  {
   "cell_type": "markdown",
   "metadata": {},
   "source": [
    "# Генератор A5"
   ]
  },
  {
   "cell_type": "code",
   "execution_count": 11,
   "metadata": {
    "collapsed": true
   },
   "outputs": [],
   "source": [
    "def LFSR_m(n,m):\n",
    "    reg = BitArray('0b'+'0'.zfill(m))\n",
    "    reg.invert()\n",
    "    one = BitArray('0b'+'1'.zfill(m))\n",
    "    s = BitArray()\n",
    "    for i in xrange(32):\n",
    "        reg = ((((reg>>31)^(reg>>30)^(reg>>29)^(reg>>27)^(reg>>25)^(reg)) & one) <<31) | (reg>>1)\n",
    "    for i in xrange(n):\n",
    "        reg = ((((reg>>31)^(reg>>30)^(reg>>29)^(reg>>27)^(reg>>25)^(reg)) & one) <<31) | (reg>>1)\n",
    "\n",
    "        s.append('0b'+str(int((reg& one)[-1])) )  \n",
    "    return s"
   ]
  },
  {
   "cell_type": "code",
   "execution_count": 12,
   "metadata": {
    "collapsed": true
   },
   "outputs": [],
   "source": [
    "class A5generator:\n",
    "    def __init__(self, verbose = True):\n",
    "        self.verbose = verbose\n",
    "        self.reg1= BitArray('0b'+'1'*19) # 19 bit register\n",
    "        self.reg2= BitArray('0b'+'1'*22) # 22 bit register\n",
    "        self.reg3= BitArray('0b'+'1'*23) # 23 bit register\n",
    "    def __onesRegisters(self):\n",
    "        self.reg1= BitArray('0b'+'1'*19) # 19 bit register\n",
    "        self.reg2= BitArray('0b'+'1'*22) # 22 bit register\n",
    "        self.reg3= BitArray('0b'+'1'*23) # 23 bit register        \n",
    "    def __clockLFSR1(self, inputBit =0):\n",
    "        reg1XOR = int(((self.reg1>>5)^(self.reg1>>2)^(self.reg1>>1)^(self.reg1))[-1])^inputBit\n",
    "        self.reg1 = self.reg1>>1\n",
    "        self.reg1[0]= reg1XOR\n",
    "    def __clockLFSR2(self, inputBit =0):\n",
    "        reg2XOR = int(((self.reg2>>1)^(self.reg2))[-1])^inputBit\n",
    "        self.reg2 = self.reg2>>1\n",
    "        self.reg2[0]= reg2XOR\n",
    "    def __clockLFSR3(self, inputBit =0):\n",
    "        reg3XOR = int(((self.reg3>>15)^(self.reg3>>2)^(self.reg3>>1)^(self.reg3))[-1])^inputBit\n",
    "        self.reg3 = self.reg3>>1\n",
    "        self.reg3[0]= reg3XOR\n",
    "    def __majorityFunc(self):\n",
    "        x = self.reg1[8]\n",
    "        y = self.reg2[10]\n",
    "        z = self.reg3[10]\n",
    "        return (x&y)|(x&z)|(y&z)\n",
    "    def __emptyClocks(self, numIt = 100): #initial clocks without output\n",
    "        for i in range(0,numIt):\n",
    "            major = self.__majorityFunc()\n",
    "            if self.reg1[8]==major:\n",
    "                self.__clockLFSR1()\n",
    "            if self.reg2[10]==major:\n",
    "                self.__clockLFSR2()\n",
    "            if self.reg3[10]==major:\n",
    "                self.__clockLFSR3()\n",
    "    \n",
    "    def __mClocks(self, numIt): # clocks for random stream\n",
    "        output = BitArray()\n",
    "        for i in range(0,numIt):\n",
    "            rez = self.reg1[-1]^self.reg2[-1]^self.reg3[-1]\n",
    "            output.append('0b'+str(int(rez)))\n",
    "            major = self.__majorityFunc()\n",
    "            if self.reg1[8]==major:\n",
    "                self.__clockLFSR1()\n",
    "            if self.reg2[10]==major:\n",
    "                self.__clockLFSR2()\n",
    "            if self.reg3[10]==major:\n",
    "                self.__clockLFSR3()\n",
    "        return output\n",
    "    def A5generating(self,n=100):\n",
    "        self.__onesRegisters()\n",
    "        self.__emptyClocks()\n",
    "        output = self.__mClocks(n)\n",
    "        if self.verbose:print output\n",
    "        return output     \n",
    "        print \"================================================================\"\n",
    "        print \"                                                                \"\n",
    "        print \"================================================================\""
   ]
  },
  {
   "cell_type": "markdown",
   "metadata": {},
   "source": [
    "# Проверка всех тестов на всех последовательностях"
   ]
  },
  {
   "cell_type": "markdown",
   "metadata": {},
   "source": [
    "Загрузка из текстовых файлов ранее сгенерированных бинарных последовательностей, а также последовательности e"
   ]
  },
  {
   "cell_type": "code",
   "execution_count": 10,
   "metadata": {
    "collapsed": true
   },
   "outputs": [],
   "source": [
    "def loadBinFromFile(filename):\n",
    "    f = open(filename, 'rb')\n",
    "    a =f.read()[:-1]\n",
    "    f.close()\n",
    "    return BitArray('0b'+a)"
   ]
  },
  {
   "cell_type": "code",
   "execution_count": 11,
   "metadata": {
    "collapsed": false
   },
   "outputs": [],
   "source": [
    "e = loadBinFromFile(filename = 'e.txt')\n",
    "t1 = loadBinFromFile(filename = 'txt1b.txt')\n",
    "t2 = loadBinFromFile(filename = 'txt2b.txt')\n",
    "t3 = loadBinFromFile(filename = 'txt3b.txt')\n",
    "t4 = loadBinFromFile(filename = 'txt4b.txt')"
   ]
  },
  {
   "cell_type": "markdown",
   "metadata": {},
   "source": [
    "Генерируем последовательности при помощи новых генераторов"
   ]
  },
  {
   "cell_type": "code",
   "execution_count": 15,
   "metadata": {
    "collapsed": true
   },
   "outputs": [],
   "source": [
    "g= A5generator(verbose=False)\n",
    "a5 = g.A5generating(len(t4))\n",
    "lfsr = LFSR(len(t4))\n",
    "ssh = SSH(len(t4)) "
   ]
  },
  {
   "cell_type": "markdown",
   "metadata": {},
   "source": [
    "Объединяем все последовательности в один объект"
   ]
  },
  {
   "cell_type": "code",
   "execution_count": 16,
   "metadata": {
    "collapsed": true
   },
   "outputs": [],
   "source": [
    "allSequences = [e,t1,t2,t3,t4,lfsr,ssh,a5]"
   ]
  },
  {
   "cell_type": "markdown",
   "metadata": {},
   "source": [
    "Все тесты в объединяются одну функцию, выдающую таблицу результатов"
   ]
  },
  {
   "cell_type": "code",
   "execution_count": 17,
   "metadata": {
    "collapsed": true
   },
   "outputs": [],
   "source": [
    "def applyAllTests(allSequences):\n",
    "    mb = map(lambda x: monobit(x),allSequences)\n",
    "    lc = map(lambda x: linear_complexity(x),allSequences)\n",
    "    mr = map(lambda x: matrix_rank(x),allSequences)\n",
    "    s = map(lambda x: serial(x),allSequences)\n",
    "    head0 = [\"e\",\"t1\",\"t2\",\"t3\",\"t4\",\"32-lfsr\",\"self-shrink\",\"a5\"]\n",
    "    return pd.DataFrame({\"monobit\":mb,\"linear complexity\":lc,\"matrix rank\":mr,\n",
    "                         \"serial\": s, \"data name\":head0\n",
    "                        })"
   ]
  },
  {
   "cell_type": "code",
   "execution_count": 18,
   "metadata": {
    "collapsed": true
   },
   "outputs": [],
   "source": [
    "tests_results= applyAllTests(allSequences)"
   ]
  },
  {
   "cell_type": "code",
   "execution_count": 19,
   "metadata": {
    "collapsed": false
   },
   "outputs": [
    {
     "data": {
      "text/html": [
       "<div>\n",
       "<table border=\"1\" class=\"dataframe\">\n",
       "  <thead>\n",
       "    <tr style=\"text-align: right;\">\n",
       "      <th></th>\n",
       "      <th>linear complexity</th>\n",
       "      <th>matrix rank</th>\n",
       "      <th>monobit</th>\n",
       "      <th>serial</th>\n",
       "    </tr>\n",
       "    <tr>\n",
       "      <th>data name</th>\n",
       "      <th></th>\n",
       "      <th></th>\n",
       "      <th></th>\n",
       "      <th></th>\n",
       "    </tr>\n",
       "  </thead>\n",
       "  <tbody>\n",
       "    <tr>\n",
       "      <th>e</th>\n",
       "      <td>0.828</td>\n",
       "      <td>0.306</td>\n",
       "      <td>0.953</td>\n",
       "      <td>0.764</td>\n",
       "    </tr>\n",
       "    <tr>\n",
       "      <th>t1</th>\n",
       "      <td>0.000</td>\n",
       "      <td>0.000</td>\n",
       "      <td>0.044</td>\n",
       "      <td>0.000</td>\n",
       "    </tr>\n",
       "    <tr>\n",
       "      <th>t2</th>\n",
       "      <td>0.475</td>\n",
       "      <td>0.475</td>\n",
       "      <td>0.944</td>\n",
       "      <td>0.000</td>\n",
       "    </tr>\n",
       "    <tr>\n",
       "      <th>t3</th>\n",
       "      <td>0.515</td>\n",
       "      <td>0.544</td>\n",
       "      <td>0.046</td>\n",
       "      <td>0.000</td>\n",
       "    </tr>\n",
       "    <tr>\n",
       "      <th>t4</th>\n",
       "      <td>0.815</td>\n",
       "      <td>0.052</td>\n",
       "      <td>0.992</td>\n",
       "      <td>0.000</td>\n",
       "    </tr>\n",
       "    <tr>\n",
       "      <th>32-lfsr</th>\n",
       "      <td>0.000</td>\n",
       "      <td>0.000</td>\n",
       "      <td>0.928</td>\n",
       "      <td>0.410</td>\n",
       "    </tr>\n",
       "    <tr>\n",
       "      <th>self-shrink</th>\n",
       "      <td>0.908</td>\n",
       "      <td>0.233</td>\n",
       "      <td>0.070</td>\n",
       "      <td>0.992</td>\n",
       "    </tr>\n",
       "    <tr>\n",
       "      <th>a5</th>\n",
       "      <td>0.941</td>\n",
       "      <td>0.873</td>\n",
       "      <td>0.841</td>\n",
       "      <td>0.711</td>\n",
       "    </tr>\n",
       "  </tbody>\n",
       "</table>\n",
       "</div>"
      ],
      "text/plain": [
       "             linear complexity  matrix rank  monobit  serial\n",
       "data name                                                   \n",
       "e                        0.828        0.306    0.953   0.764\n",
       "t1                       0.000        0.000    0.044   0.000\n",
       "t2                       0.475        0.475    0.944   0.000\n",
       "t3                       0.515        0.544    0.046   0.000\n",
       "t4                       0.815        0.052    0.992   0.000\n",
       "32-lfsr                  0.000        0.000    0.928   0.410\n",
       "self-shrink              0.908        0.233    0.070   0.992\n",
       "a5                       0.941        0.873    0.841   0.711"
      ]
     },
     "execution_count": 19,
     "metadata": {},
     "output_type": "execute_result"
    }
   ],
   "source": [
    "tests_results.set_index('data name')"
   ]
  },
  {
   "cell_type": "markdown",
   "metadata": {},
   "source": [
    "# Шифрование A5/1 (как в стандарте GSM)"
   ]
  },
  {
   "cell_type": "code",
   "execution_count": 20,
   "metadata": {
    "collapsed": false
   },
   "outputs": [],
   "source": [
    "class A5cipher:\n",
    "    def __init__(self, sessionKey= '0b1010101110111000111111001010101010111101110101110111001100101110', verbose = True):\n",
    "        self.verbose = verbose\n",
    "        self.key = BitArray(sessionKey)\n",
    "        self.reg1= BitArray('0b'+'0'*19) # 19 bit register\n",
    "        self.reg2= BitArray('0b'+'0'*22) # 22 bit register\n",
    "        self.reg3= BitArray('0b'+'0'*23) # 23 bit register\n",
    "        self.frameCounterSize = 22 # Bits per frame counter \n",
    "    def loadText(self, text = \"A like kittens!\"):\n",
    "        self.initText = text\n",
    "        self.encodedBinStream = BitArray()\n",
    "        self.binStream = self.__text2bin(text)\n",
    "        self.Decoded = self.__bin2text(self.binStream.bin)\n",
    "        if self.verbose: print \"Загруженный текст:\\n\"+self.Decoded\n",
    "        if self.verbose: print \"Бинарное представление загруженного текста:\\n\"+str(self.binStream.bin)\n",
    "        self.__makePackets()\n",
    "        if self.verbose: print \"Разбиение на пакеты \\n\"+str(self.frames)\n",
    "    def __text2bin(cls,text):\n",
    "        words = map(bin,bytearray(text))\n",
    "        bitArStr = map(lambda x: x[2:],words)\n",
    "        bitArStr = map(lambda x: '0'*(7-len(x))+x if len(x)<7 else x,bitArStr)\n",
    "        bitArStr = \"\".join(bitArStr)\n",
    "        bitArStr = BitArray(\"0b\"+bitArStr)\n",
    "        return bitArStr\n",
    "    def __bin2text(cls, binaryStr):\n",
    "        bin_to_word = binaryStr\n",
    "        bin_to_word = list(map(''.join, zip(*[iter(bin_to_word )]*7)))\n",
    "        bin_to_word = map(lambda x: '0b'+x,bin_to_word)\n",
    "        bin_to_word = map(lambda x: chr(int(x,base=2)),bin_to_word)\n",
    "        text_restored = \"\".join(bin_to_word)\n",
    "        return text_restored\n",
    "    def __makePackets(self):\n",
    "        p_size = 288 # standart packet size\n",
    "        stream = self.binStream.bin\n",
    "        p_num = int(math.ceil(len(stream)/float(p_size))) # number of frames\n",
    "        frameCounterSize = self.frameCounterSize\n",
    " \n",
    "        packs = list()\n",
    "        for i in xrange(p_num):\n",
    "            packs.append( stream[i*p_size:min(i*p_size+p_size,len(stream)+1)])\n",
    "        framesCounters = list()\n",
    "        for i in xrange(1,p_num+1):\n",
    "            framesCounters.append(i+500+3*i)            \n",
    "        framesCounters = map(lambda x: bin(x),framesCounters)\n",
    "        framesCounters = map(lambda x: '0b'+'0'*(frameCounterSize-len(x[2:]))+x[2:] if len(x[2:])<frameCounterSize else x,framesCounters)\n",
    "        framesCounters= map(lambda x: BitArray(x),framesCounters)\n",
    "        self.frames = zip(framesCounters, packs)\n",
    "    def __nullRegisters(self):\n",
    "        self.reg1= BitArray('0b'+'0'*19) # 19 bit register\n",
    "        self.reg2= BitArray('0b'+'0'*22) # 22 bit register\n",
    "        self.reg3= BitArray('0b'+'0'*23) # 23 bit register\n",
    "    \n",
    "    def __clockLFSR1(self, inputBit =0):\n",
    "        reg1XOR = int(((self.reg1>>5)^(self.reg1>>2)^(self.reg1>>1)^(self.reg1))[-1])^inputBit\n",
    "        self.reg1 = self.reg1>>1\n",
    "        self.reg1[0]= reg1XOR\n",
    "        #reg1 = ((((reg>>5)^(reg>>2)^(reg>>1)^(reg)) & one) <<18) | (reg>>one)\n",
    "        #return int(reg1[-1])\n",
    "        ##return int(reg1[-1])\n",
    "    def __clockLFSR2(self, inputBit =0):\n",
    "        reg2XOR = int(((self.reg2>>1)^(self.reg2))[-1])^inputBit\n",
    "        self.reg2 = self.reg2>>1\n",
    "        self.reg2[0]= reg2XOR\n",
    "        #return int(reg2[-1])\n",
    "    def __clockLFSR3(self, inputBit =0):\n",
    "        reg3XOR = int(((self.reg3>>15)^(self.reg3>>2)^(self.reg3>>1)^(self.reg3))[-1])^inputBit\n",
    "        self.reg3 = self.reg3>>1\n",
    "        self.reg3[0]= reg3XOR\n",
    "        #return int(reg3[-1])\n",
    "    def __majorityFunc(self):\n",
    "        x = self.reg1[8]\n",
    "        y = self.reg2[10]\n",
    "        z = self.reg3[10]\n",
    "        return (x&y)|(x&z)|(y&z)\n",
    "    def __sessionInit(self):\n",
    "        for i in range(0,len(self.key)):\n",
    "            self.__clockLFSR1(self.key[i])\n",
    "            self.__clockLFSR2(self.key[i])\n",
    "            self.__clockLFSR3(self.key[i])\n",
    "    def __frameInit(self, frameCounter):\n",
    "        for i in range(0,self.frameCounterSize):\n",
    "            self.__clockLFSR1(frameCounter[i])\n",
    "            self.__clockLFSR2(frameCounter[i])\n",
    "            self.__clockLFSR3(frameCounter[i])\n",
    "    def __emptyClocks(self, numIt = 100): #initial clocks without output\n",
    "        for i in range(0,numIt):\n",
    "            major = self.__majorityFunc()\n",
    "            if self.reg1[8]==major:\n",
    "                self.__clockLFSR1()\n",
    "            if self.reg2[10]==major:\n",
    "                self.__clockLFSR2()\n",
    "            if self.reg3[10]==major:\n",
    "                self.__clockLFSR3()\n",
    "    def __mClocks(self, numIt =None): # clocks for random stream\n",
    "        if numIt is None:\n",
    "            numIt = self.frameCounterSize\n",
    "        output = BitArray()\n",
    "        for i in range(0,numIt):\n",
    "            rez = self.reg1[-1]^self.reg2[-1]^self.reg3[-1]\n",
    "            output.append('0b'+str(int(rez)))\n",
    "            major = self.__majorityFunc()\n",
    "            if self.reg1[8]==major:\n",
    "                self.__clockLFSR1()\n",
    "            if self.reg2[10]==major:\n",
    "                self.__clockLFSR2()\n",
    "            if self.reg3[10]==major:\n",
    "                self.__clockLFSR3()\n",
    "        return output\n",
    "    def A5encoding(self):\n",
    "        self.__makePackets()\n",
    "        self.__sessionInit()\n",
    "        for j in range(0,len(self.frames)):\n",
    "            frame = self.frames[j]\n",
    "            self.__nullRegisters()\n",
    "            self.__frameInit(frameCounter=frame[0])\n",
    "            self.__emptyClocks()\n",
    "            randomFrame = self.__mClocks(len(frame[1]))\n",
    "            if self.verbose: print \"Packet iter tests\"\n",
    "            if self.verbose: print \"random generate sequence\"\n",
    "            if self.verbose: print randomFrame.bin\n",
    "            if self.verbose:  print \"old sequence\"\n",
    "            if self.verbose: print frame[1]\n",
    "            frame = ( frame[0],  randomFrame^BitArray('0b'+frame[1]) )\n",
    "            self.frames[j] = frame\n",
    "            if self.verbose: print \"New sequence\"\n",
    "            if self.verbose: print self.frames[j][1].bin\n",
    "            if self.verbose: print self.frames\n",
    "        self.__mergePackets()\n",
    "        self._getEncodedText()\n",
    "        \n",
    "        print \"================================================================\"\n",
    "        print \"                                                                \"\n",
    "        print \"================================================================\"\n",
    "        print \"Initial text\"\n",
    "        print self.__bin2text(self.binStream.bin)\n",
    "        print \"================================================================\"\n",
    "        print \"Initial text in binary\"\n",
    "        print self.binStream.bin\n",
    "        print \"New encoded text in binary\"\n",
    "        print self.encodedBinStream.bin \n",
    "        print \"================================================================\"\n",
    "        print \"Encoded text\"\n",
    "        #print self.__bin2text(c.encodedBinStream.bin)\n",
    "        print self.textEncrypted\n",
    "        \n",
    "    def __mergePackets(self):\n",
    "        for frame in self.frames:\n",
    "            self.encodedBinStream.append(frame[1])\n",
    "    def _getEncodedText(self):\n",
    "        self.textEncrypted = self.__bin2text(self.encodedBinStream.bin) \n"
   ]
  },
  {
   "cell_type": "code",
   "execution_count": 21,
   "metadata": {
    "collapsed": false
   },
   "outputs": [],
   "source": [
    "st = open('Kittens.txt', 'r').read()"
   ]
  },
  {
   "cell_type": "code",
   "execution_count": 22,
   "metadata": {
    "collapsed": false
   },
   "outputs": [
    {
     "name": "stdout",
     "output_type": "stream",
     "text": [
      "================================================================\n",
      "                                                                \n",
      "================================================================\n",
      "Initial text\n",
      "Three little kittens they lost their mittens,\n",
      "And they began to cry,\n",
      "Oh, mother dear, we sadly fear\n",
      "We have lost our mittens\n",
      "What! lost your mittens, you naughty kittens!\n",
      "Then you shall have no pie.\n",
      "Mee-ow, mee-ow, mee-ow.\n",
      "No, you shall have no pie.\n",
      "\n",
      "The three little kittens they found their mittens,\n",
      "And they began to cry,\n",
      "Oh, mother dear, see here, see here,\n",
      "We have found our mittens\n",
      "Put on your mittens, you silly kittens,\n",
      "And you shall have some pie.\n",
      "Mee-ow, mee-ow, mee-ow.\n",
      "Oh, let us have some pie.\n",
      "\n",
      "The three little kittens put on their mittens,\n",
      "And soon ate up the pie;\n",
      "Oh, mother dear, we greatly fear\n",
      "We have soiled our mittens\n",
      "What! soiled your mittens, you naughty kittens!\n",
      "Then they began to sigh,\n",
      "Mee-ow, mee-ow, mee-ow.\n",
      "Then they began to sigh.\n",
      "\n",
      "================================================================\n",
      "Initial text in binary\n",
      "101010011010001110010110010111001010100000110110011010011110100111010011011001100101010000011010111101001111010011101001100101110111011100110100000111010011010001100101111100101000001101100110111111100111110100010000011101001101000110010111010011110010010000011011011101001111010011101001100101110111011100110101100000101010000011101110110010001000001110100110100011001011111001010000011000101100101110011111000011101110010000011101001101111010000011000111110010111100101011000001010100111111010000101100010000011011011101111111010011010001100101111001001000001100100110010111000011110010010110001000001110111110010101000001110011110000111001001101100111100101000001100110110010111000011110010000101010101111100101010000011010001100001111011011001010100000110110011011111110011111010001000001101111111010111100100100000110110111010011110100111010011001011101110111001100010101010111110100011000011110100010000101000001101100110111111100111110100010000011110011101111111010111100100100000110110111010011110100111010011001011101110111001101011000100000111100111011111110101010000011011101100001111010111001111101000111010011110010100000110101111010011110100111010011001011101110111001101000010001010101010011010001100101110111001000001111001110111111101010100000111001111010001100001110110011011000100000110100011000011110110110010101000001101110110111101000001110000110100111001010101110000101010011011100101110010101011011101111111011101011000100000110110111001011100101010110111011111110111010110001000001101101110010111001010101101110111111101110101110000101010011101101111010110001000001111001110111111101010100000111001111010001100001110110011011000100000110100011000011110110110010101000001101110110111101000001110000110100111001010101110000101000010101010100110100011001010100000111010011010001110010110010111001010100000110110011010011110100111010011011001100101010000011010111101001111010011101001100101110111011100110100000111010011010001100101111100101000001100110110111111101011101110110010001000001110100110100011001011101001111001001000001101101110100111101001110100110010111011101110011010110000010101000001110111011001000100000111010011010001100101111100101000001100010110010111001111100001110111001000001110100110111101000001100011111001011110010101100000101010011111101000010110001000001101101110111111101001101000110010111100100100000110010011001011100001111001001011000100000111001111001011100101010000011010001100101111001011001010101100010000011100111100101110010101000001101000110010111100101100101010110000010101010111110010101000001101000110000111101101100101010000011001101101111111010111011101100100010000011011111110101111001001000001101101110100111101001110100110010111011101110011000101010100001110101111010001000001101111110111001000001111001110111111101011110010010000011011011101001111010011101001100101110111011100110101100010000011110011101111111010101000001110011110100111011001101100111100101000001101011110100111101001110100110010111011101110011010110000010101000001110111011001000100000111100111011111110101010000011100111101000110000111011001101100010000011010001100001111011011001010100000111001111011111101101110010101000001110000110100111001010101110000101010011011100101110010101011011101111111011101011000100000110110111001011100101010110111011111110111010110001000001101101110010111001010101101110111111101110101110000101010011111101000010110001000001101100110010111101000100000111010111100110100000110100011000011110110110010101000001110011110111111011011100101010000011100001101001110010101011100001010000101010101001101000110010101000001110100110100011100101100101110010101000001101100110100111101001110100110110011001010100000110101111010011110100111010011001011101110111001101000001110000111010111101000100000110111111011100100000111010011010001100101110100111100100100000110110111010011110100111010011001011101110111001101011000001010100000111011101100100010000011100111101111110111111011100100000110000111101001100101010000011101011110000010000011101001101000110010101000001110000110100111001010111011000101010011111101000010110001000001101101110111111101001101000110010111100100100000110010011001011100001111001001011000100000111011111001010100000110011111100101100101110000111101001101100111100101000001100110110010111000011110010000101010101111100101010000011010001100001111011011001010100000111001111011111101001110110011001011100100010000011011111110101111001001000001101101110100111101001110100110010111011101110011000101010101111101000110000111101000100001010000011100111101111110100111011001100101110010001000001111001110111111101011110010010000011011011101001111010011101001100101110111011100110101100010000011110011101111111010101000001101110110000111101011100111110100011101001111001010000011010111101001111010011101001100101110111011100110100001000101010101001101000110010111011100100000111010011010001100101111100101000001100010110010111001111100001110111001000001110100110111101000001110011110100111001111101000010110000010101001101110010111001010101101110111111101110101100010000011011011100101110010101011011101111111011101011000100000110110111001011100101010110111011111110111010111000010101010100110100011001011101110010000011101001101000110010111110010100000110001011001011100111110000111011100100000111010011011110100000111001111010011100111110100001011100001010\n",
      "New encoded text in binary\n",
      "100100100001011011101111011011110010101001111001101111010010101111111100100011010110011111101111101100110110101101100101100100110100011100110010111010101010100000000011101011011000001011101101110010110101111011000001111001010011101011101110111001100110010101100000101000001101000000100100110000000011100110101011111000001000000001001001111101010110000001111110010110100000010011011000010111010000011100101100100010100100101100111111110011111010110010000110111110100100000110100101111110001011101111110111101110001000101111111110101101000110000101000101110011010001110100111010001001001110000101000001101000000101000001111011101010001100010001011000110111100011110110100101000010001011110111000010011000001000111010101100000000011101111001101110001010111100101111000001110100101000101101101000011111110010111110011101000010110010100111001100000111111001110100111000001001101111000001111001101111011000011111011010100110001111011000011000100101101101111001001000100001010110001101010010100011000001101000111111100101000111000001010001110000010110110111000010100001010001110001011010100111010100001000110110011000111111000001011101001100110111101111001101010001111100011101001001000000000001100000000011100000111101001011111111010100100101000111010111100111111010110011011010010100111100100011100001101001101101110111101010101001110000010110110101000101000011000101110110001110100001011100011011000110100001000111011100001001011101100001011010010101110101101100111100000011101000111111001111100110101111110110010011111101001000000001101111011000011101010100110110111010101110011011100011000111011111001011011101111111011001100110101000011011001001100100100110111001100001010010011010000100001111110001100001101011111111001001101100101001101111111001100011111100110101100010100111000100111010101000000111100111101010011011110100111011001010011110111000101100111000001101110000100100011101110110101111111010010111111011110001000110101100001111100111110101000111101111111010001100100010001101101001001110111100101100011111101110010100100011011001001000011000011110100000111110001110011000011110001110011101111000001010111101110010100001111100111001111001100101001111101011001010011110100001000010110010111111100100000010101100000110100010101010011011100101111101010101100001000100100011101111100101011100001001000000011110011001001011001011001101010010110101101011111001010000001010101100111011101010110100011110001111001110001000110100100110000100100111010001011011111100110100100010010011001110000100101101011110000101010110100010111101000000000011100000111011100010110011000111101110000000000001011100111101010001011011111100111010010011100110110001101000001100100010011010110111110101000100000011011011000001001010100010101001101001100000010000111000000101011001000011011000100010111010111111101011001110000101101111110001000000110000101100010110111100000101000111100110110001010001010011000001010110111000100001011001000010111001001110100011101011110101010011001010110000110101100110111111101000010001011100000010110010100111011110110001000000001001101011011010000000011011111100111001010100011101001010110101101110010001100111110100110000111111001010000100000110111010110001001010010001110110011101111110011011000111101010111100001111110101001111100100100111110111111111011001010010101000011011101011000110000011000001111100101100110000100111111000000100100101110110100010101000011111001110000011011011101011101101111011001110000101001101011011010001000010110010111100100111110001111001101011010110100110111000001010111011010110101011110011111100001111010111110110001000110101000110111000111010110101111100011011101111111100110111000011010001111111110011111111010110110010110111001011000110101000101101010111101001100100001010001110001000100010011110111001001011110010010000110101001110101110010110111100011110110111111100110011101011001000111101111101111101100001011111011101101100101001011001110111010100010100010111000101000010101111110101110110100011101011001100011011110011001010110001110101110010001000011110101011011001100111100100101001111011000110011011111111100111101010010000110010111110001101011000101010100101001110011110110011010001110001111111111010100001101101000010001001100011000101000010111011001001010110011111001000010011001000011010001001110100001010001110111110010101010110000100001111100011100001011010110111011111001010010010000001011010001001010000110000011010011001000110010101100000110000111100110010011011001101101010110010111011101101110000011101111111100011101011001101000010000101001011000000111001010001000101111001100000011000110000010100001101100001111111110100001000111011010001011001101001101000010001100100110001101000000110110001011101001111010000111011001111110011100110010001001101110101111001001000010111110101001000110000010010010100100110111010001111111010111100011110001001010111110011010010101101111111011110111011111001001111011001110101111110101000011001001001111010100111100100001001100111100101101011111010110000010101001111001011110110101011100100010011110100011000010111111101010100101000101011110000100101001101111000001100010000111100010101000011101111101011011010000101011010100011011001000010001001110010010011010110010111001110110010110101101000011111100010000100100000011001110011010011101101010010110100100101100000110000010101110111011111010010100101110111101111100010110111\n",
      "================================================================\n",
      "Encoded text\n",
      "I\u0005]vy)s=\u0015\u0011V?>fk2dhs\u0017*P\u0003V`]\\Z{\u0003e\u001d",
      ";\\f+\u0002AP\u00120\u0007\u001a_\u0002\u0000IzX\u000feP\u00130]\u0003K\u0011$Y\u001f,C>H\u001a/bww\\\"k#\u0005\u000b",
      "M\u000eNDN\n",
      "\u0006@P=j\u0018EFx{%\u0004/8&\u0004:X\u0001o\u001bE<^\u0007%\u000b",
      "4\u001feyh,SL\u000fg'\u00027As=CvS\u000f0b-^$!,5\u001404?J\u001c",
      "\n",
      "\u001c",
      "\u000b",
      "7\u0005\u0005\u000e\u0016ST\u0011YGp.Lo<j\u001f\u000eI\u0000\u0006\u00008\u001e",
      "K~R(uszfi'Hpi[^U\u001c",
      "\u000b",
      "5\n",
      "\f",
      ".cP\\6\u001a\bw\u0004]Bi.[\u001e",
      "\u0003Q||k{\u0013z \r",
      "v\u000eTmjs8c_\u0016w{\u0019T\u001b\u0013\u00127\u0018)\u001a\b?\f",
      "\u001aIY&\u0018~5E\u001c",
      "'*\u0003gTo'2O8Y`n\t\u000ev_i?<#,\u001f\u001f({}\f",
      "D6Io\u0016\u001f\\R\u001b\u0012\f",
      "\u001e",
      "Axs\u0007G\u001d",
      "p+n(>9s\u0014}2O!\u0005K|@V\u0006E)\\_*a\t\u000e|W\u0004@<dY3)5We\u0001+\u001d",
      "jhxyb\u001a&\t\u001d",
      "\u000b",
      "?\u001a\"&8%WBVEt\u00008\u001d",
      "bf\u001e",
      "p\u0000.=\"og$s1P2\u0013-zD\u0006l\t(Ti@C@V!XEk}3Bob\u0003\u0005E^\u0005\u000f\u001b\n",
      "\u0014`Vq\u0005H.'#WU\u0019,\u001af!\u000b",
      "@Y'=D\u0001\u001am\u00007sJG%5\\F>L\u001fJ\b\u001bV\u0012Hv;yXz^\u000fj>$}Y%!]1AAy3\u0004~\u0002%m\n",
      "CsA[W7Ya&[\"\u000b",
      "\u0017IxyVZ7\u0002]VWOau{\bj\u001bG->\u001b_s84?s~[\u0016rc(Z^LBG\bD{I<H5\u001d",
      "97G[|g,G_>a>ve\u0016;T(\\(+zvG,c<e1kHCjlgI'XfgTC\u0017c,*J9v48u\u0006h\"1E\u0005lJgd\u0013\u0010hNBG>*X!xpZn|R -\t!AS\u0011J`as\u0013352w7\u0003_qk\u001a\b)0\u001c",
      "Q\u000b",
      "f\u0003\f",
      "\n",
      "\r",
      "C!\u000ehYS!\f",
      "L4\u0006btz\u000egsLDn^$\u0017j#\u0002%\u0013:\u001fkcb+s%7{n|O3Wu\u0006$zO\u0010Ly5z`Ty=Ud'QB*(WB)^\u0006\u0010xT\u001d",
      "zm\u00055\r",
      "H\"9\u0013,\\v-4\u001fD\u0012\u0003\u001c",
      "im%R,\f",
      "\n",
      "w>J.{q7\n"
     ]
    }
   ],
   "source": [
    "c =A5cipher(verbose=False)\n",
    "c.loadText(st)\n",
    "c.A5encoding()"
   ]
  },
  {
   "cell_type": "code",
   "execution_count": 23,
   "metadata": {
    "collapsed": false
   },
   "outputs": [
    {
     "name": "stdout",
     "output_type": "stream",
     "text": [
      "================================================================\n",
      "                                                                \n",
      "================================================================\n",
      "Initial text\n",
      "I\u0005]vy)s=\u0015\u0011V?>fk2dhs\u0017*P\u0003V`]\\Z{\u0003e\u001d",
      ";\\f+\u0002AP\u00120\u0007\u001a_\u0002\u0000IzX\u000feP\u00130]\u0003K\u0011$Y\u001f,C>H\u001a/bww\\\"k#\u0005\u000b",
      "M\u000eNDN\n",
      "\u0006@P=j\u0018EFx{%\u0004/8&\u0004:X\u0001o\u001bE<^\u0007%\u000b",
      "4\u001feyh,SL\u000fg'\u00027As=CvS\u000f0b-^$!,5\u001404?J\u001c",
      "\n",
      "\u001c",
      "\u000b",
      "7\u0005\u0005\u000e\u0016ST\u0011YGp.Lo<j\u001f\u000eI\u0000\u0006\u00008\u001e",
      "K~R(uszfi'Hpi[^U\u001c",
      "\u000b",
      "5\n",
      "\f",
      ".cP\\6\u001a\bw\u0004]Bi.[\u001e",
      "\u0003Q||k{\u0013z \r",
      "v\u000eTmjs8c_\u0016w{\u0019T\u001b\u0013\u00127\u0018)\u001a\b?\f",
      "\u001aIY&\u0018~5E\u001c",
      "'*\u0003gTo'2O8Y`n\t\u000ev_i?<#,\u001f\u001f({}\f",
      "D6Io\u0016\u001f\\R\u001b\u0012\f",
      "\u001e",
      "Axs\u0007G\u001d",
      "p+n(>9s\u0014}2O!\u0005K|@V\u0006E)\\_*a\t\u000e|W\u0004@<dY3)5We\u0001+\u001d",
      "jhxyb\u001a&\t\u001d",
      "\u000b",
      "?\u001a\"&8%WBVEt\u00008\u001d",
      "bf\u001e",
      "p\u0000.=\"og$s1P2\u0013-zD\u0006l\t(Ti@C@V!XEk}3Bob\u0003\u0005E^\u0005\u000f\u001b\n",
      "\u0014`Vq\u0005H.'#WU\u0019,\u001af!\u000b",
      "@Y'=D\u0001\u001am\u00007sJG%5\\F>L\u001fJ\b\u001bV\u0012Hv;yXz^\u000fj>$}Y%!]1AAy3\u0004~\u0002%m\n",
      "CsA[W7Ya&[\"\u000b",
      "\u0017IxyVZ7\u0002]VWOau{\bj\u001bG->\u001b_s84?s~[\u0016rc(Z^LBG\bD{I<H5\u001d",
      "97G[|g,G_>a>ve\u0016;T(\\(+zvG,c<e1kHCjlgI'XfgTC\u0017c,*J9v48u\u0006h\"1E\u0005lJgd\u0013\u0010hNBG>*X!xpZn|R -\t!AS\u0011J`as\u0013352w7\u0003_qk\u001a\b)0\u001c",
      "Q\u000b",
      "f\u0003\f",
      "\n",
      "\r",
      "C!\u000ehYS!\f",
      "L4\u0006btz\u000egsLDn^$\u0017j#\u0002%\u0013:\u001fkcb+s%7{n|O3Wu\u0006$zO\u0010Ly5z`Ty=Ud'QB*(WB)^\u0006\u0010xT\u001d",
      "zm\u00055\r",
      "H\"9\u0013,\\v-4\u001fD\u0012\u0003\u001c",
      "im%R,\f",
      "\n",
      "w>J.{q7\n",
      "================================================================\n",
      "Initial text in binary\n",
      "100100100001011011101111011011110010101001111001101111010010101111111100100011010110011111101111101100110110101101100101100100110100011100110010111010101010100000000011101011011000001011101101110010110101111011000001111001010011101011101110111001100110010101100000101000001101000000100100110000000011100110101011111000001000000001001001111101010110000001111110010110100000010011011000010111010000011100101100100010100100101100111111110011111010110010000110111110100100000110100101111110001011101111110111101110001000101111111110101101000110000101000101110011010001110100111010001001001110000101000001101000000101000001111011101010001100010001011000110111100011110110100101000010001011110111000010011000001000111010101100000000011101111001101110001010111100101111000001110100101000101101101000011111110010111110011101000010110010100111001100000111111001110100111000001001101111000001111001101111011000011111011010100110001111011000011000100101101101111001001000100001010110001101010010100011000001101000111111100101000111000001010001110000010110110111000010100001010001110001011010100111010100001000110110011000111111000001011101001100110111101111001101010001111100011101001001000000000001100000000011100000111101001011111111010100100101000111010111100111111010110011011010010100111100100011100001101001101101110111101010101001110000010110110101000101000011000101110110001110100001011100011011000110100001000111011100001001011101100001011010010101110101101100111100000011101000111111001111100110101111110110010011111101001000000001101111011000011101010100110110111010101110011011100011000111011111001011011101111111011001100110101000011011001001100100100110111001100001010010011010000100001111110001100001101011111111001001101100101001101111111001100011111100110101100010100111000100111010101000000111100111101010011011110100111011001010011110111000101100111000001101110000100100011101110110101111111010010111111011110001000110101100001111100111110101000111101111111010001100100010001101101001001110111100101100011111101110010100100011011001001000011000011110100000111110001110011000011110001110011101111000001010111101110010100001111100111001111001100101001111101011001010011110100001000010110010111111100100000010101100000110100010101010011011100101111101010101100001000100100011101111100101011100001001000000011110011001001011001011001101010010110101101011111001010000001010101100111011101010110100011110001111001110001000110100100110000100100111010001011011111100110100100010010011001110000100101101011110000101010110100010111101000000000011100000111011100010110011000111101110000000000001011100111101010001011011111100111010010011100110110001101000001100100010011010110111110101000100000011011011000001001010100010101001101001100000010000111000000101011001000011011000100010111010111111101011001110000101101111110001000000110000101100010110111100000101000111100110110001010001010011000001010110111000100001011001000010111001001110100011101011110101010011001010110000110101100110111111101000010001011100000010110010100111011110110001000000001001101011011010000000011011111100111001010100011101001010110101101110010001100111110100110000111111001010000100000110111010110001001010010001110110011101111110011011000111101010111100001111110101001111100100100111110111111111011001010010101000011011101011000110000011000001111100101100110000100111111000000100100101110110100010101000011111001110000011011011101011101101111011001110000101001101011011010001000010110010111100100111110001111001101011010110100110111000001010111011010110101011110011111100001111010111110110001000110101000110111000111010110101111100011011101111111100110111000011010001111111110011111111010110110010110111001011000110101000101101010111101001100100001010001110001000100010011110111001001011110010010000110101001110101110010110111100011110110111111100110011101011001000111101111101111101100001011111011101101100101001011001110111010100010100010111000101000010101111110101110110100011101011001100011011110011001010110001110101110010001000011110101011011001100111100100101001111011000110011011111111100111101010010000110010111110001101011000101010100101001110011110110011010001110001111111111010100001101101000010001001100011000101000010111011001001010110011111001000010011001000011010001001110100001010001110111110010101010110000100001111100011100001011010110111011111001010010010000001011010001001010000110000011010011001000110010101100000110000111100110010011011001101101010110010111011101101110000011101111111100011101011001101000010000101001011000000111001010001000101111001100000011000110000010100001101100001111111110100001000111011010001011001101001101000010001100100110001101000000110110001011101001111010000111011001111110011100110010001001101110101111001001000010111110101001000110000010010010100100110111010001111111010111100011110001001010111110011010010101101111111011110111011111001001111011001110101111110101000011001001001111010100111100100001001100111100101101011111010110000010101001111001011110110101011100100010011110100011000010111111101010100101000101011110000100101001101111000001100010000111100010101000011101111101011011010000101011010100011011001000010001001110010010011010110010111001110110010110101101000011111100010000100100000011001110011010011101101010010110100100101100000110000010101110111011111010010100101110111101111100010110111\n",
      "New encoded text in binary\n",
      "101010011010001110010110010111001010100000110110011010011110100111010011011001100101010000011010111101001111010011101001100101110111011100110100000111010011010001100101111100101000001101100110111111100111110100010000011101001101000110010111010011110010010000011011011101001111010011101001100101110111011100110101100000101010000011101110110010001000001110100110100011001011111001010000011000101100101110011111000011101110010000011101001101111010000011000111110010111100101011000001010100111111010000101100010000011011011101111111010011010001100101111001001000001100100110010111000011110010010110001000001110111110010101000001110011110000111001001101100111100101000001100110110010111000011110010000101010101111100101010000011010001100001111011011001010100000110110011011111110011111010001000001101111111010111100100100000110110111010011110100111010011001011101110111001100010101010111110100011000011110100010000101000001101100110111111100111110100010000011110011101111111010111100100100000110110111010011110100111010011001011101110111001101011000100000111100111011111110101010000011011101100001111010111001111101000111010011110010100000110101111010011110100111010011001011101110111001101000010001010101010011010001100101110111001000001111001110111111101010100000111001111010001100001110110011011000100000110100011000011110110110010101000001101110110111101000001110000110100111001010101110000101010011011100101110010101011011101111111011101011000100000110110111001011100101010110111011111110111010110001000001101101110010111001010101101110111111101110101110000101010011101101111010110001000001111001110111111101010100000111001111010001100001110110011011000100000110100011000011110110110010101000001101110110111101000001110000110100111001010101110000101000010101010100110100011001010100000111010011010001110010110010111001010100000110110011010011110100111010011011001100101010000011010111101001111010011101001100101110111011100110100000111010011010001100101111100101000001100110110111111101011101110110010001000001110100110100011001011101001111001001000001101101110100111101001110100110010111011101110011010110000010101000001110111011001000100000111010011010001100101111100101000001100010110010111001111100001110111001000001110100110111101000001100011111001011110010101100000101010011111101000010110001000001101101110111111101001101000110010111100100100000110010011001011100001111001001011000100000111001111001011100101010000011010001100101111001011001010101100010000011100111100101110010101000001101000110010111100101100101010110000010101010111110010101000001101000110000111101101100101010000011001101101111111010111011101100100010000011011111110101111001001000001101101110100111101001110100110010111011101110011000101010100001110101111010001000001101111110111001000001111001110111111101011110010010000011011011101001111010011101001100101110111011100110101100010000011110011101111111010101000001110011110100111011001101100111100101000001101011110100111101001110100110010111011101110011010110000010101000001110111011001000100000111100111011111110101010000011100111101000110000111011001101100010000011010001100001111011011001010100000111001111011111101101110010101000001110000110100111001010101110000101010011011100101110010101011011101111111011101011000100000110110111001011100101010110111011111110111010110001000001101101110010111001010101101110111111101110101110000101010011111101000010110001000001101100110010111101000100000111010111100110100000110100011000011110110110010101000001110011110111111011011100101010000011100001101001110010101011100001010000101010101001101000110010101000001110100110100011100101100101110010101000001101100110100111101001110100110110011001010100000110101111010011110100111010011001011101110111001101000001110000111010111101000100000110111111011100100000111010011010001100101110100111100100100000110110111010011110100111010011001011101110111001101011000001010100000111011101100100010000011100111101111110111111011100100000110000111101001100101010000011101011110000010000011101001101000110010101000001110000110100111001010111011000101010011111101000010110001000001101101110111111101001101000110010111100100100000110010011001011100001111001001011000100000111011111001010100000110011111100101100101110000111101001101100111100101000001100110110010111000011110010000101010101111100101010000011010001100001111011011001010100000111001111011111101001110110011001011100100010000011011111110101111001001000001101101110100111101001110100110010111011101110011000101010101111101000110000111101000100001010000011100111101111110100111011001100101110010001000001111001110111111101011110010010000011011011101001111010011101001100101110111011100110101100010000011110011101111111010101000001101110110000111101011100111110100011101001111001010000011010111101001111010011101001100101110111011100110100001000101010101001101000110010111011100100000111010011010001100101111100101000001100010110010111001111100001110111001000001110100110111101000001110011110100111001111101000010110000010101001101110010111001010101101110111111101110101100010000011011011100101110010101011011101111111011101011000100000110110111001011100101010110111011111110111010111000010101010100110100011001011101110010000011101001101000110010111110010100000110001011001011100111110000111011100100000111010011011110100000111001111010011100111110100001011100001010\n",
      "================================================================\n",
      "Encoded text\n",
      "Three little kittens they lost their mittens,\n",
      "And they began to cry,\n",
      "Oh, mother dear, we sadly fear\n",
      "We have lost our mittens\n",
      "What! lost your mittens, you naughty kittens!\n",
      "Then you shall have no pie.\n",
      "Mee-ow, mee-ow, mee-ow.\n",
      "No, you shall have no pie.\n",
      "\n",
      "The three little kittens they found their mittens,\n",
      "And they began to cry,\n",
      "Oh, mother dear, see here, see here,\n",
      "We have found our mittens\n",
      "Put on your mittens, you silly kittens,\n",
      "And you shall have some pie.\n",
      "Mee-ow, mee-ow, mee-ow.\n",
      "Oh, let us have some pie.\n",
      "\n",
      "The three little kittens put on their mittens,\n",
      "And soon ate up the pie;\n",
      "Oh, mother dear, we greatly fear\n",
      "We have soiled our mittens\n",
      "What! soiled your mittens, you naughty kittens!\n",
      "Then they began to sigh,\n",
      "Mee-ow, mee-ow, mee-ow.\n",
      "Then they began to sigh.\n",
      "\n"
     ]
    }
   ],
   "source": [
    "d =A5cipher(verbose=False)\n",
    "d.loadText(c.textEncrypted)\n",
    "d.A5encoding()\n",
    "d = c.textEncrypted"
   ]
  }
 ],
 "metadata": {
  "kernelspec": {
   "display_name": "Python 2",
   "language": "python",
   "name": "python2"
  },
  "language_info": {
   "codemirror_mode": {
    "name": "ipython",
    "version": 2
   },
   "file_extension": ".py",
   "mimetype": "text/x-python",
   "name": "python",
   "nbconvert_exporter": "python",
   "pygments_lexer": "ipython2",
   "version": "2.7.11"
  }
 },
 "nbformat": 4,
 "nbformat_minor": 0
}
